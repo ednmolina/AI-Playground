{
 "cells": [
  {
   "cell_type": "markdown",
   "metadata": {},
   "source": [
    "# Sequence Processing\n",
    "This notebook will explore deep learning models that can process text which can be seen as sequences of words or characters, timeseries, and in general sequence data. Two fundamental deep learning algorithms for sequence processing are *reccurent neural networks* and *1D covnets*.\n",
    "\n",
    "# Applications\n",
    "* Document classification and time series classification such as topic classification or author of a book\n",
    "\n",
    "* Time series comparisons like estimating how closely two documents are together or how two stocks tickers are\n",
    "\n",
    "* Sequence-to_sequence learning such as decoding an English sentence into another language\n",
    "\n",
    "* Sentiment analysus: Rating reviews as positive or negative\n",
    "\n",
    "* Timeseries forecasting such as prdicting weather given past weather data"
   ]
  },
  {
   "cell_type": "markdown",
   "metadata": {},
   "source": [
    "This notebook will focus on sentiment analysis and temperature forecasting. The deep-learning sequence processing models predented in this notebook can be used to product a basic form of natural-language processing (NLP) which can be used for document classification, sentiment analysis, author identification, and even question answering (in a constrined context). It will be important to note that none of the models in this text will be able to truly understand the text they are given trather they only map the statistical structure of the text whcih can solve many simple tasks.\n",
    "\n",
    "Deep-learning models cannot take raw text as input, they need numeric tensors. We must `vectorize` the text into numeric tensors whcih can be done by\n",
    "    * Segment text into words and transform each word into a vector of numeric data\n",
    "    * Segment the text into chacaters which can be transformed into a vector\n",
    "    * Extract n-grams of words or characters and transform each n-gram into a vector. N-grams are overlapping groups of consecutive words or characters in the text.\n",
    "    \n",
    "The units form which text is broken down into are called *tokens*, and breaking down the tokens is called *tokenization*. All text-vectorization processes consist of applying a *tokenization* scheme and associating the numeric vectors with the generated tokens which are fed into deep neual networks.\n",
    "\n",
    "Two ways of associating vectors with a token are:\n",
    "    * one-hot encoding\n",
    "    * token embedding or word embedding"
   ]
  },
  {
   "cell_type": "markdown",
   "metadata": {},
   "source": [
    "## Word-Level One-Hot Encoding"
   ]
  },
  {
   "cell_type": "code",
   "execution_count": 28,
   "metadata": {
    "scrolled": true
   },
   "outputs": [
    {
     "data": {
      "text/plain": [
       "array([[[0., 1., 0., 0., 0., 0., 0., 0., 0., 0., 0.],\n",
       "        [0., 0., 1., 0., 0., 0., 0., 0., 0., 0., 0.],\n",
       "        [0., 0., 0., 1., 0., 0., 0., 0., 0., 0., 0.],\n",
       "        [0., 0., 0., 0., 1., 0., 0., 0., 0., 0., 0.],\n",
       "        [0., 0., 0., 0., 0., 1., 0., 0., 0., 0., 0.],\n",
       "        [0., 0., 0., 0., 0., 0., 1., 0., 0., 0., 0.],\n",
       "        [0., 0., 0., 0., 0., 0., 0., 0., 0., 0., 0.],\n",
       "        [0., 0., 0., 0., 0., 0., 0., 0., 0., 0., 0.],\n",
       "        [0., 0., 0., 0., 0., 0., 0., 0., 0., 0., 0.],\n",
       "        [0., 0., 0., 0., 0., 0., 0., 0., 0., 0., 0.]],\n",
       "\n",
       "       [[0., 1., 0., 0., 0., 0., 0., 0., 0., 0., 0.],\n",
       "        [0., 0., 0., 0., 0., 0., 0., 1., 0., 0., 0.],\n",
       "        [0., 0., 0., 0., 0., 0., 0., 0., 1., 0., 0.],\n",
       "        [0., 0., 0., 0., 0., 0., 0., 0., 0., 1., 0.],\n",
       "        [0., 0., 0., 0., 0., 0., 0., 0., 0., 0., 1.],\n",
       "        [0., 0., 0., 0., 0., 0., 0., 0., 0., 0., 0.],\n",
       "        [0., 0., 0., 0., 0., 0., 0., 0., 0., 0., 0.],\n",
       "        [0., 0., 0., 0., 0., 0., 0., 0., 0., 0., 0.],\n",
       "        [0., 0., 0., 0., 0., 0., 0., 0., 0., 0., 0.],\n",
       "        [0., 0., 0., 0., 0., 0., 0., 0., 0., 0., 0.]]])"
      ]
     },
     "execution_count": 28,
     "metadata": {},
     "output_type": "execute_result"
    }
   ],
   "source": [
    "import numpy as np\n",
    "\n",
    "# Initiate the text to analyze\n",
    "samples = ['The cat sat on the mat.', 'The dog ate my homework.']\n",
    "\n",
    "# Build an index of all the tokens in the data\n",
    "token_index = {}\n",
    "\n",
    "for sample in samples:\n",
    "    for word in sample.split():\n",
    "        # Remove the punctuation marks on the text and tokenize\n",
    "        word = word.replace('.', '')\n",
    "        if word not in token_index:\n",
    "            # Tokenizes the samples though the split method\n",
    "            token_index[word] = len(token_index) + 1\n",
    "\n",
    "# Consider only the first 10 words of each sample|sentence           \n",
    "max_length = 10\n",
    "\n",
    "# This array of shape (samples, max_length, max_number of tokens)\n",
    "results = np.zeros(shape = (len(samples),\n",
    "                           max_length,\n",
    "                           max(token_index.values()) + 1))\n",
    "\n",
    "# First loop goes though each sentence\n",
    "# Second loop goes through each word\n",
    "for i, sample in enumerate(samples):\n",
    "    for j, word in list(enumerate(sample.split()))[:max_length]:\n",
    "        # j indicates which sentence the word belongs to\n",
    "        word = word.replace('.', '')\n",
    "        \n",
    "        # Get the index of the word from the token_index dictionary\n",
    "        index = token_index.get(word)\n",
    "        \n",
    "        # Place a 1 in that index\n",
    "        results[i, j, index] = 1\n",
    "        \n",
    "results"
   ]
  },
  {
   "cell_type": "markdown",
   "metadata": {},
   "source": [
    "## Word-Level One-Hot Encoding using Keras\n",
    "One variant of one-hot encoding is the *one-hot hashing trick*. THis can be used when the number of unique tokens in the vocabulary is too large to handle explicitly. Instead of assigning an index to each word and keeping a referece of these indicies in a dictionary, the words can be hashed into vectors of fixed size. The advantage of this method is it does away with maintaining an explicit word index, which can save memory and allows online encoding of the data. A drawback of this method is that it is suseptible to *hash collisions*: two different words may end up with the same hash and the model won't be able to differentate these two words. However, it is important to not that the liklihood of hash collisions decreases when the dimentionality of the hashing space is much larger than the total number of unique tokens hashed."
   ]
  },
  {
   "cell_type": "code",
   "execution_count": 53,
   "metadata": {},
   "outputs": [
    {
     "name": "stderr",
     "output_type": "stream",
     "text": [
      "Using TensorFlow backend.\n"
     ]
    }
   ],
   "source": [
    "from keras.preprocessing.text import Tokenizer"
   ]
  },
  {
   "cell_type": "code",
   "execution_count": 60,
   "metadata": {},
   "outputs": [
    {
     "data": {
      "text/plain": [
       "{'the': 1,\n",
       " 'cat': 2,\n",
       " 'sat': 3,\n",
       " 'on': 4,\n",
       " 'mat': 5,\n",
       " 'dog': 6,\n",
       " 'ate': 7,\n",
       " 'my': 8,\n",
       " 'homework': 9}"
      ]
     },
     "execution_count": 60,
     "metadata": {},
     "output_type": "execute_result"
    }
   ],
   "source": [
    "# Initiate the samples to analyze\n",
    "samples = ['The cat sat on the mat.', 'The dog ate my homework.']\n",
    "\n",
    "tokenizer = Tokenizer(num_words=1000)\n",
    "tokenizer.fit_on_texts(samples)\n",
    "\n",
    "# Returns arrays of the indecies of the first appeance of words\n",
    "sequences = tokenizer.texts_to_sequences(samples)\n",
    "\n",
    "# Return one hot encoded vectors for each sentence with length 1000\n",
    "one_hot_results = tokenizer.texts_to_matrix(samples, mode = 'binary')\n",
    "\n",
    "# Indicies of each word, notice it doesn't matter of the word is capetalized or not\n",
    "word_index = tokenizer.word_index\n",
    "word_index"
   ]
  },
  {
   "cell_type": "markdown",
   "metadata": {},
   "source": [
    "## Using One-Hot Encoding using Hash"
   ]
  },
  {
   "cell_type": "code",
   "execution_count": 70,
   "metadata": {},
   "outputs": [],
   "source": [
    "# Initiate the samples to analyze\n",
    "samples = ['The cat sat on the mat.', 'The dog ate my homework.']\n",
    "\n",
    "dimensionality = 1000\n",
    "max_length = 10\n",
    "\n",
    "results = np.zeros((len(samples), max_length, dimensionality))\n",
    "\n",
    "for i, sample in enumerate(samples):\n",
    "    for j, word in list(enumerate(sample.split()))[:max_length]:\n",
    "        word = word.replace('.', '')\n",
    "        \n",
    "        index = abs(hash(word)) % dimensionality\n",
    "\n",
    "        results[i, j, index] = 1"
   ]
  },
  {
   "cell_type": "markdown",
   "metadata": {},
   "source": [
    "## Character-level one-hot encoding"
   ]
  },
  {
   "cell_type": "code",
   "execution_count": 51,
   "metadata": {},
   "outputs": [],
   "source": [
    "import string\n",
    "\n",
    "# Initiate the samples to analyze\n",
    "samples = ['The cat sat on the mat.', 'The dog ate my homework.']\n",
    "\n",
    "# These are various ASCII characters which are considered punctuation characters in the `C` local\n",
    "characters = string.printable\n",
    "\n",
    "# Create a dictionary of numbers assigned to each character\n",
    "token_index = dict(zip(range(1, len(characters) + 1), characters))\n",
    "\n",
    "max_length = 50\n",
    "\n",
    "# Create an array to store the encoding data\n",
    "# shape: number of sentences, max_length: any number of characters to consider, number of words\n",
    "results = np.zeros((len(samples), max_length, max(token_index.keys())+1))\n",
    "\n",
    "# Go through each character in each one of the sentences and encode witht he number assined in token_index\n",
    "for i, sample in enumerate(samples):\n",
    "    for j, character in enumerate(sample):\n",
    "        index = token_index.get(character)\n",
    "        results[i, j, index] = 1"
   ]
  },
  {
   "cell_type": "markdown",
   "metadata": {},
   "source": [
    "# Word Embeddings\n",
    "Another popular method to associate a vector with a word is to use dense *word vectors* or *wod embeddings*. Vectors obtained through one-hot encoding are binary, sparse, and highly dimentional, word embeddings are lower dimentional floating point vectors. They are dense. Unlike one-ot encoding, word embeddings are learned thgouh data.\n",
    "\n",
    "Two methods of obtaining word embeddings:\n",
    "    * Learn word embeddings jointly with the main teask. Start with a random word vectors and then learn word vectors in teh same way weights are learned in a neural network.\n",
    "    * Load the mdoel word embedding that were precomputed using a different machine learning task. These are pretrained word embeddings."
   ]
  },
  {
   "cell_type": "markdown",
   "metadata": {},
   "source": [
    "## Learning words embessings with Embedding Layer\n",
    "The easiest way to associate a dense vector with a word is to choose the vector at random. The problem with this appraoch is the resulting space has no structure. Words like accurate and exact may have different word embeddings though they have very similar meanings. It is difficult for deep neural neworks to ake sense of unstructure embedding spaces.\n",
    "\n",
    "Word embeddings map human lanuage to a geometric space. There is no one dimension that works well for all tasks; however, it is possible to learn a new embedding space with every new task. Backpropagation makes this easier, and it can be accomplished using the *Embedding* layer in Keras."
   ]
  },
  {
   "cell_type": "markdown",
   "metadata": {},
   "source": [
    "# Model 1"
   ]
  },
  {
   "cell_type": "markdown",
   "metadata": {},
   "source": [
    "# Applying Word Embeddings to the IMDB Dataset"
   ]
  },
  {
   "cell_type": "code",
   "execution_count": 79,
   "metadata": {},
   "outputs": [],
   "source": [
    "from keras.datasets import imdb\n",
    "from keras import preprocessing\n",
    "from keras.models import Sequential\n",
    "from keras.layers import Flatten, Dense, Embedding"
   ]
  },
  {
   "cell_type": "code",
   "execution_count": 76,
   "metadata": {},
   "outputs": [],
   "source": [
    "max_features = int(1e4)\n",
    "maxlen = 20\n",
    "\n",
    "(x_train, y_train), (x_test, y_test) = imdb.load_data(num_words = max_features)\n",
    "\n",
    "x_train = preprocessing.sequence.pad_sequences(x_train, maxlen=maxlen)\n",
    "x_test = preprocessing.sequence.pad_sequences(x_test, maxlen=maxlen)"
   ]
  },
  {
   "cell_type": "markdown",
   "metadata": {},
   "source": [
    "## Create the Network\n",
    "\n",
    "The layers of the network are:\n",
    "    * Embedding layer of 10k units\n",
    "    * Flattening Layer\n",
    "    * Dense Classification Layer\n",
    "We can see that the network reaches 75.27% accuracy by looking at the first 20 words in every review.\n",
    "\n",
    "### Note: training a single `Dense` layer leads to a model that treats each word in the input sequence separately, without considering inter-word relationships and sentence structure.\n",
    "Using a reccurent layer or 1D convolutional layer might be better to use to take into account each sequence as a whole."
   ]
  },
  {
   "cell_type": "code",
   "execution_count": 82,
   "metadata": {},
   "outputs": [
    {
     "name": "stdout",
     "output_type": "stream",
     "text": [
      "_________________________________________________________________\n",
      "Layer (type)                 Output Shape              Param #   \n",
      "=================================================================\n",
      "embedding_3 (Embedding)      (None, 20, 8)             80000     \n",
      "_________________________________________________________________\n",
      "flatten_3 (Flatten)          (None, 160)               0         \n",
      "_________________________________________________________________\n",
      "dense_2 (Dense)              (None, 1)                 161       \n",
      "=================================================================\n",
      "Total params: 80,161\n",
      "Trainable params: 80,161\n",
      "Non-trainable params: 0\n",
      "_________________________________________________________________\n",
      "Train on 20000 samples, validate on 5000 samples\n",
      "Epoch 1/10\n",
      "20000/20000 [==============================] - 1s 46us/step - loss: 0.6638 - acc: 0.6327 - val_loss: 0.6062 - val_acc: 0.7052\n",
      "Epoch 2/10\n",
      "20000/20000 [==============================] - 1s 35us/step - loss: 0.5331 - acc: 0.7536 - val_loss: 0.5204 - val_acc: 0.7326\n",
      "Epoch 3/10\n",
      "20000/20000 [==============================] - 1s 34us/step - loss: 0.4588 - acc: 0.7869 - val_loss: 0.4982 - val_acc: 0.7484\n",
      "Epoch 4/10\n",
      "20000/20000 [==============================] - 1s 34us/step - loss: 0.4218 - acc: 0.8077 - val_loss: 0.4910 - val_acc: 0.7526\n",
      "Epoch 5/10\n",
      "20000/20000 [==============================] - 1s 35us/step - loss: 0.3953 - acc: 0.8235 - val_loss: 0.4915 - val_acc: 0.7538\n",
      "Epoch 6/10\n",
      "20000/20000 [==============================] - 1s 34us/step - loss: 0.3731 - acc: 0.8359 - val_loss: 0.4937 - val_acc: 0.7572\n",
      "Epoch 7/10\n",
      "20000/20000 [==============================] - 1s 36us/step - loss: 0.3529 - acc: 0.8474 - val_loss: 0.4982 - val_acc: 0.7560\n",
      "Epoch 8/10\n",
      "20000/20000 [==============================] - 1s 34us/step - loss: 0.3343 - acc: 0.8596 - val_loss: 0.5036 - val_acc: 0.7528\n",
      "Epoch 9/10\n",
      "20000/20000 [==============================] - 1s 35us/step - loss: 0.3158 - acc: 0.8700 - val_loss: 0.5093 - val_acc: 0.7518\n",
      "Epoch 10/10\n",
      "20000/20000 [==============================] - 1s 40us/step - loss: 0.2983 - acc: 0.8796 - val_loss: 0.5172 - val_acc: 0.7490\n"
     ]
    }
   ],
   "source": [
    "model = Sequential()\n",
    "\n",
    "# Shape of this embedding layer if (samples, maxlen, 8)\n",
    "# 3 samples is the number of possible tokens\n",
    "# 8 is an arbitrary index\n",
    "model.add(Embedding(10000, 8, input_length = maxlen))\n",
    "\n",
    "# This flattens wht 3D tensor of the embeddings to a 2D tensor of shape (saples, maxlen*8)\n",
    "model.add(Flatten())\n",
    "\n",
    "# Adds the classifier on top\n",
    "model.add(Dense(1, activation = 'sigmoid'))\n",
    "model.compile(optimizer = 'rmsprop', loss = 'binary_crossentropy', metrics = ['acc'])\n",
    "\n",
    "model.summary()\n",
    "\n",
    "history = model.fit(x_train, y_train,\n",
    "                   epochs = 10,\n",
    "                   batch_size = 32,\n",
    "                   validation_split = 0.2)"
   ]
  },
  {
   "cell_type": "markdown",
   "metadata": {},
   "source": [
    "# Using pretrained word embeddings\n",
    "There are situations here there is not enough tiraning data to learn word embeddins, this is when it is appropriate to use pretrained models and assume that the relations between the expected features to be rather genertic or similar.\n",
    "\n",
    "Ther are various precomputed wordembeddings available to use such as `Word2Vec` and Global Vectors for Word Representation `GloVe`. The embedding technique is based on factorizing a matric of word co-occurance statistics. Its developers used Wikipedia and Common Crawl data for training."
   ]
  },
  {
   "cell_type": "markdown",
   "metadata": {},
   "source": [
    "# Model 2"
   ]
  },
  {
   "cell_type": "markdown",
   "metadata": {},
   "source": [
    "## From Raw Text to word embeddings"
   ]
  },
  {
   "cell_type": "markdown",
   "metadata": {},
   "source": [
    "## Getting the text and their sentiments from the IMDB database"
   ]
  },
  {
   "cell_type": "code",
   "execution_count": 102,
   "metadata": {},
   "outputs": [],
   "source": [
    "import os\n",
    "imdb_dir = '/Users/edenmolina/Documents/AI-Playground/Sequences/aclIMDB'\n",
    "train_dir = os.path.join(imdb_dir, 'train')\n",
    "\n",
    "labels = []\n",
    "texts = []\n",
    "\n",
    "# For every negative and positive review, goes through negative first\n",
    "for label_type in ['neg', 'pos']:\n",
    "    dir_name = os.path.join(train_dir, label_type)\n",
    "    \n",
    "    # Goes through every review in the dataset\n",
    "    for fname in os.listdir(dir_name):\n",
    "        \n",
    "        # If the file it sees is a text file open it\n",
    "        if fname[-4:]== '.txt':\n",
    "            f = open(os.path.join(dir_name, fname))\n",
    "            \n",
    "            # Read the file ad add it to array: texts\n",
    "            texts.append(f.read())\n",
    "            \n",
    "            f.close()\n",
    "            \n",
    "            # Add sentiment label to array: labels\n",
    "            # If file is in the 'neg' directory it's a negative review etc\n",
    "            if label_type == 'neg':\n",
    "                labels.append(0)\n",
    "            else:\n",
    "                labels.append(1)"
   ]
  },
  {
   "cell_type": "markdown",
   "metadata": {},
   "source": [
    "## Tokenizing the data\n",
    "Below the text is vectorized and prepared for traiing and validation split. Because pretrained word embeddings are meant to be use in situations where little data is availble, we will restrict the training data to just the first 200 samples. Essentially the model should learn to classifiy reviews after just looking at 200 examples."
   ]
  },
  {
   "cell_type": "code",
   "execution_count": 131,
   "metadata": {},
   "outputs": [],
   "source": [
    "from keras.preprocessing.text import Tokenizer\n",
    "from keras.preprocessing.sequence import pad_sequences\n",
    "import numpy as np"
   ]
  },
  {
   "cell_type": "markdown",
   "metadata": {},
   "source": [
    "`maxlen` sets the maximum number of words to looks at for each review\n",
    "\n",
    "`training_samples` set number of samples to train on from the data\n",
    "\n",
    "`validation_samples` sets the number of validation reviews\n",
    "\n",
    "`max_words` sets the top number of words from the dataset to look at"
   ]
  },
  {
   "cell_type": "code",
   "execution_count": 133,
   "metadata": {},
   "outputs": [
    {
     "name": "stdout",
     "output_type": "stream",
     "text": [
      "Found 88582 unique tokens.\n"
     ]
    }
   ],
   "source": [
    "maxlen = 100\n",
    "training_samples = 200\n",
    "validation_samples = int(1e4)\n",
    "max_words = int(1e4)\n",
    "\n",
    "tokenizer = Tokenizer(num_words=max_words)\n",
    "tokenizer.fit_on_texts(texts)\n",
    "sequences = tokenizer.texts_to_sequences(texts)\n",
    "\n",
    "word_index = tokenizer.word_index\n",
    "print ('Found %s unique tokens.'%len(word_index))"
   ]
  },
  {
   "cell_type": "code",
   "execution_count": 134,
   "metadata": {},
   "outputs": [
    {
     "name": "stdout",
     "output_type": "stream",
     "text": [
      "Shape of data:  (25000, 100)\n",
      "shape of labels:  (25000,)\n"
     ]
    }
   ],
   "source": [
    "data = pad_sequences(sequences, maxlen=maxlen)\n",
    "\n",
    "labels = np.asarray(labels)\n",
    "print('Shape of data: ', data.shape)\n",
    "print('shape of labels: ', labels.shape)"
   ]
  },
  {
   "cell_type": "code",
   "execution_count": 136,
   "metadata": {},
   "outputs": [],
   "source": [
    "# Split the data into training and vliation\n",
    "# Shuffle the data because the data is ordered from negative to positive\n",
    "indicies = np.arange(data.shape[0])\n",
    "np.random.shuffle(indicies)\n",
    "data = data[indicies]\n",
    "labels = labels[indicies]\n",
    "\n",
    "x_train = data[:training_samples]\n",
    "y_train = labels[:training_samples]\n",
    "x_val = data[training_samples: training_samples + validation_samples]\n",
    "y_val = labels[training_samples: training_samples + validation_samples]"
   ]
  },
  {
   "cell_type": "markdown",
   "metadata": {},
   "source": [
    "# Using the GloVe Dataset\n",
    "The GloVe dataset was precomputed on 2014 English Wikipedia. It contains 100-dimensional embedding vectors for 400k words."
   ]
  },
  {
   "cell_type": "code",
   "execution_count": 151,
   "metadata": {},
   "outputs": [],
   "source": [
    "glove_dir = '/Users/edenmolina/Documents/AI-Playground/Sequences/glove.6B'\n",
    "\n",
    "embeddings_index = {}\n",
    "\n",
    "f = open(os.path.join(glove_dir, 'glove.6B.100d.txt'))"
   ]
  },
  {
   "cell_type": "code",
   "execution_count": 152,
   "metadata": {},
   "outputs": [],
   "source": [
    "for line in f:\n",
    "    values = line.split()\n",
    "    word = values[0]\n",
    "    coefs = np.asarray(values[1:], dtype = 'float32')\n",
    "    embeddings_index[word] = coefs\n",
    "f.close()"
   ]
  },
  {
   "cell_type": "code",
   "execution_count": 153,
   "metadata": {},
   "outputs": [
    {
     "name": "stdout",
     "output_type": "stream",
     "text": [
      "Found 400000 word vectors.\n"
     ]
    }
   ],
   "source": [
    "print ('Found %s word vectors.'%len(embeddings_index))"
   ]
  },
  {
   "cell_type": "markdown",
   "metadata": {},
   "source": [
    "## Build embedding matric\n",
    "Must be a matrix of shape (max_words, embedding_dim)\n",
    "each entry i contains the embedding_dim-a dimensional vector for the word of index i in the reference word index\n",
    "\n",
    "### Note\n",
    "Index 0 isn't supposed to stand for any word or token-it's a placeholder"
   ]
  },
  {
   "cell_type": "code",
   "execution_count": 154,
   "metadata": {},
   "outputs": [],
   "source": [
    "embedding_dim = 100\n",
    "\n",
    "embedding_matrix = np.zeros((max_words, embedding_dim))\n",
    "\n",
    "for word, i in word_index.items():\n",
    "    if i < max_words:\n",
    "        embedding_vector = embeddings_index.get(word)\n",
    "        \n",
    "        if embedding_vector is not None:\n",
    "            embedding_matrix[i] = embedding_vector"
   ]
  },
  {
   "cell_type": "markdown",
   "metadata": {},
   "source": [
    "## Building the Network"
   ]
  },
  {
   "cell_type": "code",
   "execution_count": 158,
   "metadata": {},
   "outputs": [],
   "source": [
    "from keras.models import Sequential\n",
    "from keras.layers import Embedding, Flatten, Dense"
   ]
  },
  {
   "cell_type": "code",
   "execution_count": 161,
   "metadata": {},
   "outputs": [
    {
     "name": "stdout",
     "output_type": "stream",
     "text": [
      "_________________________________________________________________\n",
      "Layer (type)                 Output Shape              Param #   \n",
      "=================================================================\n",
      "embedding_6 (Embedding)      (None, 100, 100)          1000000   \n",
      "_________________________________________________________________\n",
      "flatten_6 (Flatten)          (None, 10000)             0         \n",
      "_________________________________________________________________\n",
      "dense_7 (Dense)              (None, 32)                320032    \n",
      "_________________________________________________________________\n",
      "dense_8 (Dense)              (None, 1)                 33        \n",
      "=================================================================\n",
      "Total params: 1,320,065\n",
      "Trainable params: 1,320,065\n",
      "Non-trainable params: 0\n",
      "_________________________________________________________________\n"
     ]
    }
   ],
   "source": [
    "model = Sequential()\n",
    "model.add(Embedding(max_words, embedding_dim, input_length=maxlen))\n",
    "model.add(Flatten())\n",
    "model.add(Dense(32, activation = 'relu'))\n",
    "model.add(Dense(1, activation = 'sigmoid'))\n",
    "model.summary()"
   ]
  },
  {
   "cell_type": "markdown",
   "metadata": {},
   "source": [
    "## Load the GloVe embeddings in the model\n",
    "The embedding layer has a single weight matric: a 2D float matric where each entry i is the word vector meant to be associated with the index i\n",
    "Load the GloVe embedding matrix into the embedding layer, the first layer in the model.\n",
    "We freeze the embedding layer to prevent the weights from being updated during training. This is done to avoid the netwrok from forgetting what it already knows. Large gradient updates in the network are disruptive to the alread-learned features."
   ]
  },
  {
   "cell_type": "code",
   "execution_count": 165,
   "metadata": {},
   "outputs": [],
   "source": [
    "# Add the embedding matrix to the first layer, set the weights\n",
    "model.layers[0].set_weights([embedding_matrix])\n",
    "# Freezes the embedding layer\n",
    "model.layers[0].trainable = False"
   ]
  },
  {
   "cell_type": "markdown",
   "metadata": {},
   "source": [
    "## Training and Evaluation"
   ]
  },
  {
   "cell_type": "code",
   "execution_count": 169,
   "metadata": {},
   "outputs": [
    {
     "name": "stdout",
     "output_type": "stream",
     "text": [
      "Train on 200 samples, validate on 10000 samples\n",
      "Epoch 1/10\n",
      "200/200 [==============================] - 1s 4ms/step - loss: 1.0091 - acc: 0.5400 - val_loss: 0.6939 - val_acc: 0.5062\n",
      "Epoch 2/10\n",
      "200/200 [==============================] - 0s 2ms/step - loss: 0.6634 - acc: 0.5850 - val_loss: 0.8159 - val_acc: 0.4933\n",
      "Epoch 3/10\n",
      "200/200 [==============================] - 0s 2ms/step - loss: 0.5173 - acc: 0.7300 - val_loss: 1.0146 - val_acc: 0.5064\n",
      "Epoch 4/10\n",
      "200/200 [==============================] - 0s 2ms/step - loss: 0.5799 - acc: 0.6850 - val_loss: 0.7932 - val_acc: 0.4918\n",
      "Epoch 5/10\n",
      "200/200 [==============================] - 0s 2ms/step - loss: 0.3105 - acc: 0.9400 - val_loss: 0.8523 - val_acc: 0.5070\n",
      "Epoch 6/10\n",
      "200/200 [==============================] - 0s 2ms/step - loss: 0.2982 - acc: 0.8850 - val_loss: 1.1089 - val_acc: 0.5077\n",
      "Epoch 7/10\n",
      "200/200 [==============================] - 0s 2ms/step - loss: 0.1866 - acc: 0.9650 - val_loss: 0.8063 - val_acc: 0.4967\n",
      "Epoch 8/10\n",
      "200/200 [==============================] - 0s 2ms/step - loss: 0.1271 - acc: 0.9800 - val_loss: 0.8771 - val_acc: 0.5000\n",
      "Epoch 9/10\n",
      "200/200 [==============================] - 0s 2ms/step - loss: 0.0531 - acc: 1.0000 - val_loss: 0.9472 - val_acc: 0.5030\n",
      "Epoch 10/10\n",
      "200/200 [==============================] - 0s 2ms/step - loss: 0.1551 - acc: 0.9600 - val_loss: 0.9624 - val_acc: 0.4990\n"
     ]
    }
   ],
   "source": [
    "model.compile(optimizer = 'rmsprop',\n",
    "             loss = 'binary_crossentropy',\n",
    "             metrics = ['acc'])\n",
    "history = model.fit(x_train, y_train,\n",
    "                  epochs = 10,\n",
    "                  batch_size= 32,\n",
    "                  validation_data = (x_val, y_val))\n",
    "\n",
    "model.save_weights('pre_trained_glove_mode.h5')"
   ]
  },
  {
   "cell_type": "markdown",
   "metadata": {},
   "source": [
    "## Plot the results\n",
    "We can see that the model begins to overfit quickly. THis is expcted due to the small number of training samples.\n",
    "\n",
    "Validation accuracy has high variance, and it doesn't seem to reach above the high 50%'s."
   ]
  },
  {
   "cell_type": "code",
   "execution_count": 172,
   "metadata": {},
   "outputs": [
    {
     "data": {
      "text/plain": [
       "<matplotlib.legend.Legend at 0x1369d3080>"
      ]
     },
     "execution_count": 172,
     "metadata": {},
     "output_type": "execute_result"
    },
    {
     "data": {
      "image/png": "[encoded data removed]",
      "text/plain": [
       "<Figure size 432x288 with 1 Axes>"
      ]
     },
     "metadata": {
      "needs_background": "light"
     },
     "output_type": "display_data"
    }
   ],
   "source": [
    "import matplotlib.pyplot as plt\n",
    "\n",
    "acc = history.history['acc']\n",
    "val_acc = history.history['val_acc']\n",
    "loss = history.history['loss']\n",
    "val_loss = history.history['val_loss']\n",
    "epochs = range(1, len(acc) + 1)\n",
    "\n",
    "plt.figure()\n",
    "plt.plot(epochs, loss, 'bo', label='Training loss')\n",
    "plt.plot(epochs, val_loss, 'b', label='Validation loss')\n",
    "plt.title('Training and validation loss')\n",
    "plt.legend()"
   ]
  },
  {
   "cell_type": "code",
   "execution_count": 173,
   "metadata": {},
   "outputs": [
    {
     "data": {
      "image/png": "[encoded data removed]",
      "text/plain": [
       "<Figure size 432x288 with 1 Axes>"
      ]
     },
     "metadata": {
      "needs_background": "light"
     },
     "output_type": "display_data"
    }
   ],
   "source": [
    "plt.plot(epochs, acc, 'bo', label='Training acc')\n",
    "plt.plot(epochs, val_acc, 'b', label='Validation acc')\n",
    "plt.title('Training and validation accuracy')\n",
    "plt.legend()\n",
    "\n",
    "plt.show()"
   ]
  },
  {
   "cell_type": "markdown",
   "metadata": {},
   "source": [
    "## Train the same model without pretrained word embeddings\n",
    "Train the model on the 200 samples from before. We can see that the accuracy is still low."
   ]
  },
  {
   "cell_type": "code",
   "execution_count": 178,
   "metadata": {},
   "outputs": [
    {
     "name": "stdout",
     "output_type": "stream",
     "text": [
      "_________________________________________________________________\n",
      "Layer (type)                 Output Shape              Param #   \n",
      "=================================================================\n",
      "embedding_7 (Embedding)      (None, 100, 100)          1000000   \n",
      "_________________________________________________________________\n",
      "flatten_7 (Flatten)          (None, 10000)             0         \n",
      "_________________________________________________________________\n",
      "dense_9 (Dense)              (None, 32)                320032    \n",
      "_________________________________________________________________\n",
      "dense_10 (Dense)             (None, 1)                 33        \n",
      "=================================================================\n",
      "Total params: 1,320,065\n",
      "Trainable params: 1,320,065\n",
      "Non-trainable params: 0\n",
      "_________________________________________________________________\n",
      "Train on 200 samples, validate on 10000 samples\n",
      "Epoch 1/10\n",
      "200/200 [==============================] - 1s 4ms/step - loss: 0.6928 - acc: 0.4900 - val_loss: 0.6940 - val_acc: 0.4995\n",
      "Epoch 2/10\n",
      "200/200 [==============================] - 0s 2ms/step - loss: 0.5018 - acc: 0.9800 - val_loss: 0.7048 - val_acc: 0.4940\n",
      "Epoch 3/10\n",
      "200/200 [==============================] - 0s 2ms/step - loss: 0.2799 - acc: 0.9850 - val_loss: 0.7040 - val_acc: 0.4994\n",
      "Epoch 4/10\n",
      "200/200 [==============================] - 0s 2ms/step - loss: 0.1208 - acc: 1.0000 - val_loss: 0.7277 - val_acc: 0.5007\n",
      "Epoch 5/10\n",
      "200/200 [==============================] - 0s 2ms/step - loss: 0.0655 - acc: 0.9950 - val_loss: 0.7194 - val_acc: 0.4970\n",
      "Epoch 6/10\n",
      "200/200 [==============================] - 0s 2ms/step - loss: 0.0304 - acc: 1.0000 - val_loss: 0.7364 - val_acc: 0.4976\n",
      "Epoch 7/10\n",
      "200/200 [==============================] - 0s 2ms/step - loss: 0.0167 - acc: 1.0000 - val_loss: 0.7399 - val_acc: 0.4989\n",
      "Epoch 8/10\n",
      "200/200 [==============================] - 0s 2ms/step - loss: 0.0106 - acc: 1.0000 - val_loss: 0.7447 - val_acc: 0.4981\n",
      "Epoch 9/10\n",
      "200/200 [==============================] - 0s 2ms/step - loss: 0.0060 - acc: 1.0000 - val_loss: 0.7863 - val_acc: 0.4945\n",
      "Epoch 10/10\n",
      "200/200 [==============================] - 0s 2ms/step - loss: 0.0043 - acc: 1.0000 - val_loss: 0.7607 - val_acc: 0.4959\n"
     ]
    }
   ],
   "source": [
    "from keras.models import Sequential\n",
    "from keras.layers import Embedding, Flatten, Dense\n",
    "model = Sequential()\n",
    "model.add(Embedding(max_words, embedding_dim, input_length=maxlen))\n",
    "model.add(Flatten())\n",
    "model.add(Dense(32, activation='relu'))\n",
    "model.add(Dense(1, activation='sigmoid'))\n",
    "model.summary()\n",
    "model.compile(optimizer='rmsprop',\n",
    "              loss='binary_crossentropy',\n",
    "              metrics=['acc'])\n",
    "history = model.fit(x_train, y_train,\n",
    "                    epochs=10,\n",
    "                    batch_size=32,\n",
    "                    validation_data=(x_val, y_val))"
   ]
  },
  {
   "cell_type": "code",
   "execution_count": 179,
   "metadata": {},
   "outputs": [
    {
     "data": {
      "text/plain": [
       "<matplotlib.legend.Legend at 0x13a21f240>"
      ]
     },
     "execution_count": 179,
     "metadata": {},
     "output_type": "execute_result"
    },
    {
     "data": {
      "image/png": "[encoded data removed]",
      "text/plain": [
       "<Figure size 432x288 with 1 Axes>"
      ]
     },
     "metadata": {
      "needs_background": "light"
     },
     "output_type": "display_data"
    }
   ],
   "source": [
    "import matplotlib.pyplot as plt\n",
    "\n",
    "acc = history.history['acc']\n",
    "val_acc = history.history['val_acc']\n",
    "loss = history.history['loss']\n",
    "val_loss = history.history['val_loss']\n",
    "epochs = range(1, len(acc) + 1)\n",
    "\n",
    "plt.figure()\n",
    "plt.plot(epochs, loss, 'bo', label='Training loss')\n",
    "plt.plot(epochs, val_loss, 'b', label='Validation loss')\n",
    "plt.title('Training and validation loss')\n",
    "plt.legend()"
   ]
  },
  {
   "cell_type": "code",
   "execution_count": 180,
   "metadata": {},
   "outputs": [
    {
     "data": {
      "image/png": "[encoded data removed]",
      "text/plain": [
       "<Figure size 432x288 with 1 Axes>"
      ]
     },
     "metadata": {
      "needs_background": "light"
     },
     "output_type": "display_data"
    }
   ],
   "source": [
    "plt.plot(epochs, acc, 'bo', label='Training acc')\n",
    "plt.plot(epochs, val_acc, 'b', label='Validation acc')\n",
    "plt.title('Training and validation accuracy')\n",
    "plt.legend()\n",
    "\n",
    "plt.show()"
   ]
  },
  {
   "cell_type": "markdown",
   "metadata": {},
   "source": [
    "## Evaluate the model on the test data\n",
    "Tokenize the data in the test set.\n",
    "Got a training accuracy of 50%!"
   ]
  },
  {
   "cell_type": "code",
   "execution_count": 184,
   "metadata": {},
   "outputs": [],
   "source": [
    "test_dir = os.path.join(imdb_dir, 'test')\n",
    "\n",
    "labels = []\n",
    "texts = []\n",
    "\n",
    "for label_type in ['neg', 'pos']:\n",
    "    dir_name = os.path.join(test_dir, label_type)\n",
    "    \n",
    "    for fname in sorted(os.listdir(dir_name)):\n",
    "        if fname[-4:]=='.txt':\n",
    "            f = open(os.path.join(dir_name, fname))\n",
    "            texts.append(f.read())\n",
    "            f.close()\n",
    "        \n",
    "        if label_type=='neg':\n",
    "            labels.append(0)\n",
    "        else:\n",
    "            labels.append(1)"
   ]
  },
  {
   "cell_type": "code",
   "execution_count": 186,
   "metadata": {},
   "outputs": [],
   "source": [
    "sequences = tokenizer.texts_to_sequences(texts)\n",
    "x_test = pad_sequences(sequences, maxlen=maxlen)\n",
    "y_test = np.asarray(labels)"
   ]
  },
  {
   "cell_type": "code",
   "execution_count": 188,
   "metadata": {},
   "outputs": [
    {
     "name": "stdout",
     "output_type": "stream",
     "text": [
      "25000/25000 [==============================] - 1s 34us/step\n"
     ]
    },
    {
     "data": {
      "text/plain": [
       "[0.9472441915512085, 0.50468]"
      ]
     },
     "execution_count": 188,
     "metadata": {},
     "output_type": "execute_result"
    }
   ],
   "source": [
    "model.load_weights('pre_trained_glove_mode.h5')\n",
    "model.evaluate(x_test, y_test)"
   ]
  },
  {
   "cell_type": "code",
   "execution_count": null,
   "metadata": {},
   "outputs": [],
   "source": []
  }
 ],
 "metadata": {
  "kernelspec": {
   "display_name": "Python 3",
   "language": "python",
   "name": "python3"
  },
  "language_info": {
   "codemirror_mode": {
    "name": "ipython",
    "version": 3
   },
   "file_extension": ".py",
   "mimetype": "text/x-python",
   "name": "python",
   "nbconvert_exporter": "python",
   "pygments_lexer": "ipython3",
   "version": "3.6.6"
  }
 },
 "nbformat": 4,
 "nbformat_minor": 2
}
