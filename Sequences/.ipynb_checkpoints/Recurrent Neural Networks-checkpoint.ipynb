{
 "cells": [
  {
   "cell_type": "markdown",
   "metadata": {},
   "source": [
    "A characteristics of many neural networks such as densely connected networks or covnets is that they ave no memory. Each input shown to them is processed independently with no state kept in between inputs. In order to process sequences with these networks the whole sequence must be fed into the network at one and turn it to a single data point. They are what is called *feedforeward networks*.\n",
    "\n",
    "*Recurrent Neural Networks* solve this problem by processesing sequences by iterating through the sequence elements and maintaining a *state* containing information relative to what it has seen so far. In essence an RNN is a type of neural network that has an internal loop and the state of the rnn is reset between processing two different independent sequences. This means that a single sequence is considered a single data point. What changes is that this data point is no longer processed in a single step, rather the network will internally loop over the sequence elements."
   ]
  },
  {
   "cell_type": "code",
   "execution_count": null,
   "metadata": {},
   "outputs": [],
   "source": []
  }
 ],
 "metadata": {
  "kernelspec": {
   "display_name": "Python 3",
   "language": "python",
   "name": "python3"
  },
  "language_info": {
   "codemirror_mode": {
    "name": "ipython",
    "version": 3
   },
   "file_extension": ".py",
   "mimetype": "text/x-python",
   "name": "python",
   "nbconvert_exporter": "python",
   "pygments_lexer": "ipython3",
   "version": "3.6.6"
  }
 },
 "nbformat": 4,
 "nbformat_minor": 2
}
