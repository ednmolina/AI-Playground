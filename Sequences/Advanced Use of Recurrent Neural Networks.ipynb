{
 "cells": [
  {
   "cell_type": "markdown",
   "metadata": {},
   "source": [
    "This notebook will cover three advanced techniques for improving the performance and generalization power of recurrent neural networks. The concepts will be demonstrated using a temperature-forecasting probem, where there will be access to a timeseries of data points from sensors installed on the roof of a building such as temperature, air pressure, and humidity from which a neural network will predict what the temperature will be 24 hours after the last data point. This is a challenging problem that shows many common difficulties encountered when working with timeseries.\n",
    "\n",
    "The three advanced techniques are:\n",
    "    * Recurrent dropout - This is a built-in way to use dropout to fight overfitting in recurrent layers\n",
    "    * Stacking recurrent layers - This will increase the representational power of the network, though it will be more computationally expensive.\n",
    "    * Bidirectional recurrent layers - These present the same information to a recurrent network through various means, this increasing accuracy and mitigating forgetting issues."
   ]
  },
  {
   "cell_type": "markdown",
   "metadata": {},
   "source": [
    "# Problem Description\n",
    "## Temperature-Forecasting\n",
    "The dataset used here will be weather timeseries from the Weather Station at the Max Planck Institure for Biogeochemistry in Jena, Germany.\n",
    "\n",
    "This dataset, 14 quantities (air temperature, atmospheric pressure, humidity, wind direction, wtc) were recorded every 10 minutes over several years. The original data begins in 2003, however this example will be limited from 2009 to 2016."
   ]
  },
  {
   "cell_type": "markdown",
   "metadata": {},
   "source": [
    "# Downloading Data\n",
    "\n",
    "cd ~/Downloads\n",
    "\n",
    "mkdir jena_climate\n",
    "\n",
    "cd jena_climate\n",
    "\n",
    "wget https://s3.amazonaws.com/keras-datasets/jena_climate_2009_2016.csv.zip \n",
    "\n",
    "unzip jena_climate_2009_2016.csv.zip\n",
    "\n",
    "There are 420,551 lines of data"
   ]
  },
  {
   "cell_type": "code",
   "execution_count": 1,
   "metadata": {},
   "outputs": [],
   "source": [
    "import os"
   ]
  },
  {
   "cell_type": "code",
   "execution_count": 2,
   "metadata": {},
   "outputs": [
    {
     "name": "stdout",
     "output_type": "stream",
     "text": [
      "['\"Date Time\"', '\"p (mbar)\"', '\"T (degC)\"', '\"Tpot (K)\"', '\"Tdew (degC)\"', '\"rh (%)\"', '\"VPmax (mbar)\"', '\"VPact (mbar)\"', '\"VPdef (mbar)\"', '\"sh (g/kg)\"', '\"H2OC (mmol/mol)\"', '\"rho (g/m**3)\"', '\"wv (m/s)\"', '\"max. wv (m/s)\"', '\"wd (deg)\"']\n",
      "420551\n"
     ]
    }
   ],
   "source": [
    "data_dir = '/Users/edenmolina/Documents/AI-Playground/Sequences/jena_climate'\n",
    "fname = os.path.join(data_dir, 'jena_climate_2009_2016.csv')\n",
    "\n",
    "f = open(fname)\n",
    "data = f.read()\n",
    "f.close()\n",
    "\n",
    "lines = data.split('\\n')\n",
    "header = lines[0].split(',')\n",
    "lines = lines[1:]\n",
    "\n",
    "print (header)\n",
    "print (len(lines))"
   ]
  },
  {
   "cell_type": "markdown",
   "metadata": {},
   "source": [
    "## Convert the csv data to a numpy array"
   ]
  },
  {
   "cell_type": "code",
   "execution_count": 3,
   "metadata": {},
   "outputs": [],
   "source": [
    "import numpy as np\n",
    "\n",
    "float_data = np.zeros((len(lines), len(header)-1))\n",
    "\n",
    "for i, line in enumerate(lines):\n",
    "    values = [float(x) for x in line.split(',')[1:]]\n",
    "    float_data[i, :] = values"
   ]
  },
  {
   "cell_type": "code",
   "execution_count": 4,
   "metadata": {},
   "outputs": [
    {
     "name": "stdout",
     "output_type": "stream",
     "text": [
      "(420551, 14)\n"
     ]
    }
   ],
   "source": [
    "print (np.shape(float_data))"
   ]
  },
  {
   "cell_type": "markdown",
   "metadata": {},
   "source": [
    "## Plotting the Temperature TimeSeries\n",
    "On the left we plot all the temperature data from 2009 to 2016.\n",
    "\n",
    "On the right is the temperature over the first 10 days of the data set. It can be seen that it was a fairly cold period.\n",
    "\n",
    "It can be seen in the plots that predicting the average temperature over months can be easy given past daya, but over the scale of days the temperature looks more stochastic."
   ]
  },
  {
   "cell_type": "code",
   "execution_count": 5,
   "metadata": {},
   "outputs": [
    {
     "data": {
      "text/plain": [
       "<Figure size 1400x800 with 2 Axes>"
      ]
     },
     "metadata": {},
     "output_type": "display_data"
    }
   ],
   "source": [
    "from matplotlib import pyplot as plt\n",
    "temp = float_data[:, 1]\n",
    "temp_org = float_data[:, 1]\n",
    "fig, ax = plt.subplots(1, 2, figsize = (14,8))\n",
    "ax[0].plot(range(len(temp)), temp)\n",
    "\n",
    "ax[0].title.set_text(\"Temperature Over Time\")\n",
    "ax[0].set_xlabel(\"Time\")\n",
    "ax[0].set_ylabel('Temperature $^\\circ C$')\n",
    "\n",
    "ax[1].plot(range(1440), temp[:1440])\n",
    "ax[1].title.set_text(\"Temperature Over First 10 Days\")\n",
    "ax[1].set_xlabel(\"Time\")\n",
    "ax[1].set_ylabel('Temperature $^\\circ C$')\n",
    "\n",
    "plt.show()"
   ]
  },
  {
   "cell_type": "markdown",
   "metadata": {},
   "source": [
    "# Data Preparation\n",
    "To extract formulation of the problem the problem must be formulated as:\n",
    "    * given data going back as `lookback` timesteps (a timestep is 10 minutes)\n",
    "    * the data is sampled every `steps` timesteps\n",
    "    * is it possible to predict the temperature in daily timesteps\n",
    "    \n",
    "## Parameters\n",
    "    + lookback = 720 - look back the past 5 days (10 min)\n",
    "        * Every day has (24*60) min / 10 min intervals samples\n",
    "            * therefore 5 days has (24*60)/(10) * 5 = 720 timesteps\n",
    "    + steps = 6 observations will be sampled at one data point per hour\n",
    "    + delay = 144 targets wll be 24 hours into the future\n",
    "    \n",
    "Since the data is numerical, vectoriation is not necessary. However, each timeseries in the data is at different scales. Each feature must be normalized. By subtracting each feature from the feature mean, and dividing by the respective standard deviation.\n",
    "\n",
    "A python generator must be written that takes in an array of floats and returns batches of data from the recent past along with a target temperature in the future. Becasue the samples in the dataset are highly redundant (sample N and N+1 will have most of their timesteps in common), it would be wasteful to allocate every sample. Instead samples will be generated on the fly using the original data."
   ]
  },
  {
   "cell_type": "markdown",
   "metadata": {},
   "source": [
    "## Normalizing the Data"
   ]
  },
  {
   "cell_type": "code",
   "execution_count": 6,
   "metadata": {},
   "outputs": [],
   "source": [
    "mean = float_data[:int(2e5)].mean(axis = 0)\n",
    "std = float_data[:int(2e5)].std(axis = 0)\n",
    "\n",
    "float_data -= mean\n",
    "float_data /= std"
   ]
  },
  {
   "cell_type": "markdown",
   "metadata": {},
   "source": [
    "## Sequence generator\n",
    "The gnerator below will return a tuple (samples, targets) where `samples` is one batch of input data and `targets` is the corresponding array of target temperatures."
   ]
  },
  {
   "cell_type": "code",
   "execution_count": 7,
   "metadata": {},
   "outputs": [],
   "source": [
    "def generator(data, lookback, delay, min_index, max_index,\n",
    "              shuffle=False, batch_size=128, step=6):\n",
    "    \"\"\"\n",
    "    * data - the original array of floating point data normalized above\n",
    "    * lookback - how many timesteps back the data should go\n",
    "    * delay - how many timesteps in the future the target prediction should be\n",
    "    * min_index and max_index - indicies in the `data` array that delimit which timeseries to draw from. This would be useful for keeping a degment of the data for validation and for testing\n",
    "    * shuffle - whether to shuffle the samples or draw from the samples in chronological order\n",
    "    * batch_size - the number of samples per batch\n",
    "    * step - the period, in timesteps, at which the data is sampled.\n",
    "    \"\"\"\n",
    "    # Automatically set the max index if not given\n",
    "    if max_index is None:\n",
    "        max_index = len(data) - delay - 1\n",
    "    i = min_index + lookback\n",
    "    while 1:\n",
    "        # The data is either shuffled or not\n",
    "        if shuffle:\n",
    "            rows = np.random.randint(\n",
    "                min_index + lookback, max_index, size=batch_size)\n",
    "        else:\n",
    "            if i + batch_size >= max_index:\n",
    "                i = min_index + lookback\n",
    "            rows = np.arange(i, min(i + batch_size, max_index))\n",
    "            i += len(rows)\n",
    "            \n",
    "        # Array is created to store the snipets of the input data\n",
    "        # Shape is: (number of rows, lookback/step, number of features)\n",
    "\n",
    "\n",
    "        samples = np.zeros((len(rows),\n",
    "                           lookback // step,\n",
    "                           data.shape[-1]))\n",
    "        targets = np.zeros((len(rows),))\n",
    "        \n",
    "        # Get data and target data\n",
    "        for j, row in enumerate(rows):\n",
    "            indices = range(rows[j] - lookback, rows[j], step)\n",
    "            samples[j] = data[indices]\n",
    "            targets[j] = data[rows[j] + delay][1]\n",
    "        yield samples, targets"
   ]
  },
  {
   "cell_type": "markdown",
   "metadata": {},
   "source": [
    "The `generator` function will be used to instantiate three generators:\n",
    "        * one for training\n",
    "        * one for validation\n",
    "        * one for testing"
   ]
  },
  {
   "cell_type": "markdown",
   "metadata": {},
   "source": [
    "## Preparing training, validation, and test generators"
   ]
  },
  {
   "cell_type": "code",
   "execution_count": 8,
   "metadata": {},
   "outputs": [],
   "source": [
    "lookback = 1440 # Equivalent to 10 days\n",
    "step = 6 # 6 steps is one hour\n",
    "delay = 144\n",
    "batch_size = 128"
   ]
  },
  {
   "cell_type": "code",
   "execution_count": 9,
   "metadata": {},
   "outputs": [],
   "source": [
    "train_gen = generator(float_data,\n",
    "                      lookback=lookback,\n",
    "                      delay=delay,\n",
    "                      min_index=0,\n",
    "                      max_index=200000,\n",
    "                      shuffle=True,\n",
    "                      step=step,\n",
    "                      batch_size=batch_size)\n",
    "\n",
    "val_gen = generator(float_data,\n",
    "                    lookback=lookback,\n",
    "                    delay=delay,\n",
    "                    min_index=200001,\n",
    "                    max_index=300000,\n",
    "                    step=step,\n",
    "                    batch_size=batch_size)\n",
    "\n",
    "test_gen = generator(float_data,\n",
    "                     lookback=lookback,\n",
    "                     delay=delay,\n",
    "                     min_index=300001,\n",
    "                     max_index=None,\n",
    "                     step=step,\n",
    "                     batch_size=batch_size)"
   ]
  },
  {
   "cell_type": "code",
   "execution_count": 10,
   "metadata": {},
   "outputs": [],
   "source": [
    "# The number of steps to draw from the val_gen in order to see the whole validation set\n",
    "val_steps = (300000 - 200001 - lookback) // batch_size"
   ]
  },
  {
   "cell_type": "code",
   "execution_count": 11,
   "metadata": {},
   "outputs": [],
   "source": [
    "# Number of steps to draw from test_gen to see entire test set\n",
    "test_steps = (len(float_data) - 300001 - lookback) // batch_size"
   ]
  },
  {
   "cell_type": "markdown",
   "metadata": {},
   "source": [
    "# Baseline Model\n",
    "Here we will create a simple non-machine learning baseline model. Temperature timeseries can be assumed to be continuous (the temperatures tomorrow are likely to be close to the temperatures today) as well as periodical with a daily period. A common-sense approach is to always predict that the temperature 24 hours from now will be equal to the temperature right now. To evaluate this appraoch, the mean absolute error (MAE) metrics can be computed. Since the temperature data has been normalized and centered to be on 0 and standard deviation of one, the number is not immediately interpretable. This translates to an absolute error of .289 * temperature_std degrees C. Which is about .289*8.43"
   ]
  },
  {
   "cell_type": "code",
   "execution_count": 12,
   "metadata": {},
   "outputs": [],
   "source": [
    "def evaluate_naive_method():\n",
    "    batch_maes = []\n",
    "    for step in range(val_steps):\n",
    "        samples, targets = next(val_gen)\n",
    "        preds = samples[:, -1, 1]\n",
    "        mae = np.mean(np.abs(preds - targets))\n",
    "        batch_maes.append(mae)\n",
    "    return np.mean(batch_maes)\n",
    "    \n",
    "mae = evaluate_naive_method()"
   ]
  },
  {
   "cell_type": "code",
   "execution_count": 13,
   "metadata": {},
   "outputs": [
    {
     "name": "stdout",
     "output_type": "stream",
     "text": [
      "The model has an absolute error of:  0.2756904000563713\n"
     ]
    }
   ],
   "source": [
    "Temp_STD = np.std(temp_org)\n",
    "print ('The model has an absolute error of: ', mae*Temp_STD)"
   ]
  },
  {
   "cell_type": "markdown",
   "metadata": {},
   "source": [
    "# Create the Network"
   ]
  },
  {
   "cell_type": "code",
   "execution_count": 14,
   "metadata": {},
   "outputs": [
    {
     "name": "stderr",
     "output_type": "stream",
     "text": [
      "Using TensorFlow backend.\n"
     ]
    }
   ],
   "source": [
    "from keras.models import Sequential\n",
    "from keras import layers\n",
    "from keras.optimizers import RMSprop"
   ]
  },
  {
   "cell_type": "code",
   "execution_count": 15,
   "metadata": {},
   "outputs": [
    {
     "name": "stdout",
     "output_type": "stream",
     "text": [
      "Input shape of the network:  240 14\n"
     ]
    }
   ],
   "source": [
    "print ('Input shape of the network: ', lookback // step, float_data.shape[-1])"
   ]
  },
  {
   "cell_type": "code",
   "execution_count": 16,
   "metadata": {},
   "outputs": [],
   "source": [
    "model = Sequential()\n",
    "model.add(layers.Flatten(input_shape=(lookback // step, float_data.shape[-1])))\n",
    "model.add(layers.Dense(32, activation='relu'))\n",
    "model.add(layers.Dense(1))"
   ]
  },
  {
   "cell_type": "code",
   "execution_count": 17,
   "metadata": {},
   "outputs": [
    {
     "name": "stdout",
     "output_type": "stream",
     "text": [
      "Epoch 1/20\n",
      "500/500 [==============================] - 14s 28ms/step - loss: 1.3507 - val_loss: 0.7220\n",
      "Epoch 2/20\n",
      "500/500 [==============================] - 14s 28ms/step - loss: 0.4474 - val_loss: 0.3266\n",
      "Epoch 3/20\n",
      "500/500 [==============================] - 14s 28ms/step - loss: 0.2956 - val_loss: 0.3013\n",
      "Epoch 4/20\n",
      "500/500 [==============================] - 14s 28ms/step - loss: 0.2671 - val_loss: 0.3482\n",
      "Epoch 5/20\n",
      "500/500 [==============================] - 14s 28ms/step - loss: 0.2538 - val_loss: 0.3066\n",
      "Epoch 6/20\n",
      "500/500 [==============================] - 14s 28ms/step - loss: 0.2446 - val_loss: 0.3228\n",
      "Epoch 7/20\n",
      "500/500 [==============================] - 14s 27ms/step - loss: 0.2375 - val_loss: 0.3292\n",
      "Epoch 8/20\n",
      "500/500 [==============================] - 14s 29ms/step - loss: 0.2321 - val_loss: 0.3804\n",
      "Epoch 9/20\n",
      "500/500 [==============================] - 13s 27ms/step - loss: 0.2276 - val_loss: 0.3232\n",
      "Epoch 10/20\n",
      "500/500 [==============================] - 14s 28ms/step - loss: 0.2229 - val_loss: 0.3334\n",
      "Epoch 11/20\n",
      "500/500 [==============================] - 14s 28ms/step - loss: 0.2197 - val_loss: 0.3949\n",
      "Epoch 12/20\n",
      "500/500 [==============================] - 15s 29ms/step - loss: 0.2157 - val_loss: 0.3586\n",
      "Epoch 13/20\n",
      "500/500 [==============================] - 14s 29ms/step - loss: 0.2131 - val_loss: 0.3361\n",
      "Epoch 14/20\n",
      "500/500 [==============================] - 18s 36ms/step - loss: 0.2097 - val_loss: 0.3635\n",
      "Epoch 15/20\n",
      "500/500 [==============================] - 19s 38ms/step - loss: 0.2074 - val_loss: 0.3377\n",
      "Epoch 16/20\n",
      "500/500 [==============================] - 14s 28ms/step - loss: 0.2067 - val_loss: 0.3645\n",
      "Epoch 17/20\n",
      "500/500 [==============================] - 14s 27ms/step - loss: 0.2040 - val_loss: 0.3363\n",
      "Epoch 18/20\n",
      "500/500 [==============================] - 14s 28ms/step - loss: 0.2034 - val_loss: 0.3330\n",
      "Epoch 19/20\n",
      "500/500 [==============================] - 14s 27ms/step - loss: 0.2007 - val_loss: 0.3407\n",
      "Epoch 20/20\n",
      "500/500 [==============================] - 14s 28ms/step - loss: 0.2005 - val_loss: 0.3558\n"
     ]
    }
   ],
   "source": [
    "model.compile(optimizer=RMSprop(), loss='mae')\n",
    "history = model.fit_generator(train_gen,\n",
    "                              steps_per_epoch=500,\n",
    "                              epochs=20,\n",
    "                              validation_data=val_gen,\n",
    "                              validation_steps=val_steps)"
   ]
  },
  {
   "cell_type": "markdown",
   "metadata": {},
   "source": [
    "# Plotting the results\n",
    "WE can se that some of the validation losses are close to the no-learning baseline around .29. This goes to show the merit of having a base line, it is not easy to outperform.\n",
    "\n",
    "If a simple performing common sense model exists from the data to the targets, which doesn't the LSTM find it and improve on it? This is because the simple solution isn't what the training set up is looking for. The sapce of models in which we're searching for the solution-the hypothesis space- is the space of all possible two layer networks configured the way we did. These networks are complicated and large. Unless a machine learning model is coded to look for a specific simple model, it may fail to find a solution to a simple problem."
   ]
  },
  {
   "cell_type": "code",
   "execution_count": 18,
   "metadata": {},
   "outputs": [
    {
     "data": {
      "image/png": "[encoded data removed]",
      "text/plain": [
       "<Figure size 432x288 with 1 Axes>"
      ]
     },
     "metadata": {
      "needs_background": "light"
     },
     "output_type": "display_data"
    }
   ],
   "source": [
    "import matplotlib.pyplot as plt\n",
    "loss = history.history['loss']\n",
    "val_loss = history.history['val_loss']\n",
    "epochs = range(1, len(loss) + 1)\n",
    "plt.figure()\n",
    "plt.plot(epochs, loss, 'bo', label='Training loss')\n",
    "plt.plot(epochs, val_loss, 'b', label='Validation loss')\n",
    "plt.title('Training and validation loss')\n",
    "plt.legend()\n",
    "plt.show()"
   ]
  },
  {
   "cell_type": "markdown",
   "metadata": {},
   "source": [
    "# First Reccurent Baseline\n",
    "The first fully connect approach didn't do very well, but that doesn't mean that machine learning can't be used to solve this problem. THe previous approach first flattened the time series, which remove the idea of time from the data.\n",
    "\n",
    "In the next model, the data wil be seen the way it is: a sequence where causality and order matter. We will try a recurrent-sequence processing model, which in theory should be the perfect fit for sequnce data. It exploits the temporal ordering of datapoints unlike the first approach.\n",
    "\n",
    "Rather than using an LSTM we will use a gated recurrent unit (GRU) which work using the same principle as LSTM, but they're streamlined and much cheaper to run than LSTM. However, they may not have as much representational power as the LSTM."
   ]
  },
  {
   "cell_type": "markdown",
   "metadata": {},
   "source": [
    "# Configure and Train the GRU"
   ]
  },
  {
   "cell_type": "code",
   "execution_count": 19,
   "metadata": {
    "scrolled": true
   },
   "outputs": [
    {
     "name": "stdout",
     "output_type": "stream",
     "text": [
      "Epoch 1/20\n",
      "500/500 [==============================] - 143s 286ms/step - loss: 0.3089 - val_loss: 0.2740\n",
      "Epoch 2/20\n",
      "500/500 [==============================] - 141s 283ms/step - loss: 0.2838 - val_loss: 0.2657\n",
      "Epoch 3/20\n",
      "500/500 [==============================] - 139s 279ms/step - loss: 0.2773 - val_loss: 0.2662\n",
      "Epoch 4/20\n",
      "500/500 [==============================] - 135s 271ms/step - loss: 0.2748 - val_loss: 0.2718\n",
      "Epoch 5/20\n",
      "500/500 [==============================] - 110s 219ms/step - loss: 0.2682 - val_loss: 0.2623\n",
      "Epoch 6/20\n",
      "500/500 [==============================] - 105s 210ms/step - loss: 0.2633 - val_loss: 0.2646\n",
      "Epoch 7/20\n",
      "500/500 [==============================] - 105s 211ms/step - loss: 0.2591 - val_loss: 0.2662\n",
      "Epoch 8/20\n",
      "500/500 [==============================] - 108s 216ms/step - loss: 0.2537 - val_loss: 0.2706\n",
      "Epoch 9/20\n",
      "500/500 [==============================] - 106s 211ms/step - loss: 0.2489 - val_loss: 0.2722\n",
      "Epoch 10/20\n",
      "500/500 [==============================] - 103s 206ms/step - loss: 0.2445 - val_loss: 0.2715\n",
      "Epoch 11/20\n",
      "500/500 [==============================] - 105s 210ms/step - loss: 0.2382 - val_loss: 0.2803\n",
      "Epoch 12/20\n",
      "500/500 [==============================] - 112s 225ms/step - loss: 0.2345 - val_loss: 0.2782\n",
      "Epoch 13/20\n",
      "500/500 [==============================] - 116s 232ms/step - loss: 0.2315 - val_loss: 0.2820\n",
      "Epoch 14/20\n",
      "500/500 [==============================] - 116s 233ms/step - loss: 0.2284 - val_loss: 0.2862\n",
      "Epoch 15/20\n",
      "500/500 [==============================] - 108s 217ms/step - loss: 0.2229 - val_loss: 0.2889\n",
      "Epoch 16/20\n",
      "500/500 [==============================] - 103s 206ms/step - loss: 0.2214 - val_loss: 0.2935\n",
      "Epoch 17/20\n",
      "500/500 [==============================] - 102s 203ms/step - loss: 0.2179 - val_loss: 0.2972\n",
      "Epoch 18/20\n",
      "500/500 [==============================] - 106s 211ms/step - loss: 0.2155 - val_loss: 0.2950\n",
      "Epoch 19/20\n",
      "500/500 [==============================] - 114s 227ms/step - loss: 0.2128 - val_loss: 0.2952\n",
      "Epoch 20/20\n",
      "500/500 [==============================] - 107s 214ms/step - loss: 0.2103 - val_loss: 0.3036\n"
     ]
    }
   ],
   "source": [
    "from keras.models import Sequential\n",
    "from keras import layers\n",
    "from keras.optimizers import RMSprop\n",
    "model = Sequential()\n",
    "model.add(layers.GRU(32, input_shape=(None, float_data.shape[-1])))\n",
    "model.add(layers.Dense(1))\n",
    "model.compile(optimizer=RMSprop(), loss='mae')\n",
    "history = model.fit_generator(train_gen,\n",
    "                              steps_per_epoch=500,\n",
    "                              epochs=20,\n",
    "                              validation_data=val_gen,\n",
    "                              validation_steps=val_steps)"
   ]
  },
  {
   "cell_type": "markdown",
   "metadata": {},
   "source": [
    "# Plot the results"
   ]
  },
  {
   "cell_type": "code",
   "execution_count": 20,
   "metadata": {},
   "outputs": [
    {
     "data": {
      "image/png": "[encoded data removed]",
      "text/plain": [
       "<Figure size 432x288 with 1 Axes>"
      ]
     },
     "metadata": {
      "needs_background": "light"
     },
     "output_type": "display_data"
    }
   ],
   "source": [
    "import matplotlib.pyplot as plt\n",
    "loss = history.history['loss']\n",
    "val_loss = history.history['val_loss']\n",
    "epochs = range(1, len(loss) + 1)\n",
    "plt.figure()\n",
    "plt.plot(epochs, loss, 'bo', label='Training loss')\n",
    "plt.plot(epochs, val_loss, 'b', label='Validation loss')\n",
    "plt.title('Training and validation loss')\n",
    "plt.legend()\n",
    "plt.show()"
   ]
  },
  {
   "cell_type": "markdown",
   "metadata": {},
   "source": [
    "# Using Reccurent Dropout to Prevent Overfitting\n",
    "From the training and validation curves we can see that the model is overfitting. The training and the validation losses start to diverge significantly after a few epochs. A classic technique for mitigating overfitting is dropout which adds zeros to input units of a layer to break happenstance correlations in the training data the layer is given. However, correctly applying dropout in recurrent networks is not a trivial question. It is known that applying dropout before a recurrent layer hinders learning rather than helping with regularization.\n",
    "\n",
    "In 2015 a proper method of using dropout with a recurrent was found: the same dropout mask should be applied at every timestep, instead of a dropout mask that varies randomly from timestep to timestep. Moreover, to regularize the representations formed by the recurrent gates of layers llike the `GRU` and the `LSTM`, a temporally constant dropout mask should be applied to the inner recurrent activations of the layer-this is a *recurrent* dropout mask. Using the same dropout mask at every timestep allows the neural network to properly propagate the learning error through time. A temporally random dropout mask would discrupt the error signal and be determental to the leanring process.\n",
    "\n",
    "### Key Takeaways\n",
    "    * Use the same dropout mask at every timestep as this allows the network to properly propagate its learning error through time\n",
    "    * A temporally constant dropout mask should be applied to the inner recurrent activations of the layer (a *recurrent* dropout mask)"
   ]
  },
  {
   "cell_type": "markdown",
   "metadata": {},
   "source": [
    "## Training and Evaluating a Dropout-Regularized GRU-based Model\n",
    "The model below adds a dropout of .2 meaning that 20% of the input units will be randomly set to 0.\n",
    "\n",
    "`dropout`: fraction of units to drop for the linear transformation of the inputs (works between neurons)\n",
    "\n",
    "`recurrent_dropout`: fraction of the units to drop for the linear transformation of the recurrent state (works each neurons between timesteps)"
   ]
  },
  {
   "cell_type": "code",
   "execution_count": 27,
   "metadata": {},
   "outputs": [
    {
     "name": "stdout",
     "output_type": "stream",
     "text": [
      "Epoch 1/4\n",
      "500/500 [==============================] - 122s 244ms/step - loss: 0.3392 - val_loss: 0.2749\n",
      "Epoch 2/4\n",
      "500/500 [==============================] - 113s 226ms/step - loss: 0.3157 - val_loss: 0.2791\n",
      "Epoch 3/4\n",
      "500/500 [==============================] - 113s 226ms/step - loss: 0.3081 - val_loss: 0.2715\n",
      "Epoch 4/4\n",
      "500/500 [==============================] - 113s 226ms/step - loss: 0.3044 - val_loss: 0.2686\n"
     ]
    }
   ],
   "source": [
    "from keras.models import Sequential\n",
    "from keras import layers\n",
    "from keras.optimizers import RMSprop\n",
    "model = Sequential()\n",
    "model.add(layers.GRU(32,\n",
    "                     dropout=0.2,\n",
    "                     recurrent_dropout=0.2,\n",
    "                     input_shape=(None, float_data.shape[-1])))\n",
    "model.add(layers.Dense(1))\n",
    "model.compile(optimizer=RMSprop(), loss='mae')\n",
    "history = model.fit_generator(train_gen,\n",
    "                              steps_per_epoch=500,\n",
    "                              epochs=4,\n",
    "                              validation_data=val_gen,\n",
    "                              validation_steps=val_steps)"
   ]
  },
  {
   "cell_type": "markdown",
   "metadata": {},
   "source": [
    "## Plot the result"
   ]
  },
  {
   "cell_type": "code",
   "execution_count": 30,
   "metadata": {},
   "outputs": [
    {
     "data": {
      "image/png": "[encoded data removed]",
      "text/plain": [
       "<Figure size 432x288 with 1 Axes>"
      ]
     },
     "metadata": {
      "needs_background": "light"
     },
     "output_type": "display_data"
    }
   ],
   "source": [
    "import matplotlib.pyplot as plt\n",
    "loss = history.history['loss']\n",
    "val_loss = history.history['val_loss']\n",
    "epochs = range(1, len(loss) + 1)\n",
    "plt.figure()\n",
    "plt.plot(epochs, loss, 'bo', label='Training loss')\n",
    "plt.plot(epochs, val_loss, 'b', label='Validation loss')\n",
    "plt.title('Training and validation loss')\n",
    "plt.legend()\n",
    "plt.show()"
   ]
  },
  {
   "cell_type": "markdown",
   "metadata": {},
   "source": [
    "# Stacking Recurrent Layers\n",
    "The network with a dorpout layer is no longer overfitting has hit a bottleneck. We should consider increasing the capacity of the network.\n",
    "\n",
    "It's important to recall the description of the universal machine-learning workflow: it is generally a good idea to increase the capacity of the network until overfitting becomes the primary obstacle.\n",
    "\n",
    "Increasing the network capacity is done by increasing the numer of units in the layers or adding more layers. Adding more recurrent layers is a classic way to build more powerful recurrent networks. For example, Google Translate uses a stack of seven large LSTM layers.\n",
    "\n",
    "To stack recurrent layers on top of each other in Keras, all intermediate layers should return their full sequence of outputs (a 3D tensor) rather than their output at the last timestep. This can be accomplished by the keyword `return_sequences = True`."
   ]
  },
  {
   "cell_type": "code",
   "execution_count": 29,
   "metadata": {},
   "outputs": [
    {
     "name": "stdout",
     "output_type": "stream",
     "text": [
      "Epoch 1/4\n",
      "500/500 [==============================] - 273s 545ms/step - loss: 0.3369 - val_loss: 0.2796\n",
      "Epoch 2/4\n",
      "500/500 [==============================] - 259s 518ms/step - loss: 0.3136 - val_loss: 0.2725\n",
      "Epoch 3/4\n",
      "500/500 [==============================] - 260s 520ms/step - loss: 0.3066 - val_loss: 0.2691\n",
      "Epoch 4/4\n",
      "500/500 [==============================] - 257s 515ms/step - loss: 0.3016 - val_loss: 0.2685\n"
     ]
    }
   ],
   "source": [
    "from keras.models import Sequential\n",
    "from keras import layers\n",
    "from keras.optimizers import RMSprop\n",
    "model = Sequential()\n",
    "model.add(layers.GRU(32,\n",
    "                     dropout=0.1,\n",
    "                     recurrent_dropout=0.5,\n",
    "                     return_sequences=True,\n",
    "                     input_shape=(None, float_data.shape[-1])))\n",
    "model.add(layers.GRU(64, activation='relu',\n",
    "                     dropout=0.1,\n",
    "                     recurrent_dropout=0.5))\n",
    "model.add(layers.Dense(1))\n",
    "model.compile(optimizer=RMSprop(), loss='mae')\n",
    "history = model.fit_generator(train_gen,\n",
    "                              steps_per_epoch=500,\n",
    "                              epochs=4,\n",
    "                              validation_data=val_gen,\n",
    "                              validation_steps=val_steps)"
   ]
  },
  {
   "cell_type": "markdown",
   "metadata": {},
   "source": [
    "## Plot the results\n",
    "We can see that the added layer does improve the results, but not significantly. Two possibilities could be:\n",
    "    * We are not overfitting too much, we can increase the size of the layers in a quest for validation-loss improvement. This has a computational cost.\n",
    "    \n",
    "    * Adding a layer didn't help the network significanly. Therefore, there are diminishing return from increasing the network capacity at this point."
   ]
  },
  {
   "cell_type": "code",
   "execution_count": 33,
   "metadata": {},
   "outputs": [
    {
     "data": {
      "image/png": "[encoded data removed]",
      "text/plain": [
       "<Figure size 432x288 with 1 Axes>"
      ]
     },
     "metadata": {
      "needs_background": "light"
     },
     "output_type": "display_data"
    }
   ],
   "source": [
    "import matplotlib.pyplot as plt\n",
    "loss = history.history['loss']\n",
    "val_loss = history.history['val_loss']\n",
    "epochs = range(1, len(loss) + 1)\n",
    "plt.figure()\n",
    "plt.plot(epochs, loss, 'bo', label='Training loss')\n",
    "plt.plot(epochs, val_loss, 'b', label='Validation loss')\n",
    "plt.title('Training and validation loss')\n",
    "plt.legend()\n",
    "plt.show()"
   ]
  },
  {
   "cell_type": "markdown",
   "metadata": {},
   "source": [
    "##  Using Bidirectional RNN's\n",
    "A bidirectional RNN is a common RNN varient that can offer much better performan than regular RNNs on certain tasks. It is commenly used in natural-language processing.\n",
    "\n",
    "RNN's are notably order dependent, or time dependent: they process the timesteps of their inputs in order, and shuffling or revering them the timesteps can change the representations they extract. A bidirectional RNN exploits the order sensitivity of RNNS. It consists of two regular RNNs such as the GRU and LSTM layers that process sequences in one direction (chronologically or antichronologically), then merging their representations. By processing the sequences in both ways, a bidirectional RNN can catch patters that may be overlooked by a unidirectional RNN.\n",
    "\n",
    "What happens when we train the RNN's in achronological order? In order to accomplish this, we need to write a varient of the data generator wher  the input sequences are reverted along the time direction (replace the last line `yield samples[:, ::-1], targets`). Training the same one-`GRU` layer network that was used in the first experiemt will yeild the follwing."
   ]
  },
  {
   "cell_type": "code",
   "execution_count": 41,
   "metadata": {},
   "outputs": [],
   "source": [
    "from keras.datasets import imdb\n",
    "from keras.preprocessing import sequence\n",
    "from keras import layers\n",
    "from keras.layers import Embedding, LSTM, Dense\n",
    "from keras.models import Sequential"
   ]
  },
  {
   "cell_type": "code",
   "execution_count": 48,
   "metadata": {},
   "outputs": [],
   "source": [
    "max_features = int(1e4)\n",
    "maxlen = 50\n",
    "\n",
    "(x_train, y_train), (x_test, y_test) = imdb.load_data(\n",
    "                                            num_words = max_features)\n",
    "x_train = [x[::-1] for x in x_train]\n",
    "x_test = [x[::-1] for x in x_test]\n",
    "\n",
    "x_train = sequence.pad_sequences(x_train, maxlen = maxlen)\n",
    "x_test = sequence.pad_sequences(x_test, maxlen = maxlen)"
   ]
  },
  {
   "cell_type": "markdown",
   "metadata": {},
   "source": [
    "### Create the network\n",
    "First layer is an embedding layer for the text\n",
    "\n",
    "Next layer is an LSTM\n",
    "\n",
    "Then the last layer is a Dense layer that returns a prediction\n",
    "\n",
    "Interestingly, for a dataset like this, reverse-order works as well as chronological processing. This confirms the hyopthesis that, though word order does matter in understanding language, which order doesn't. OFreward or back.An RNN trained on reversed sequences will learn different representation than an RNN trained in chronocal order.\n",
    "\n",
    "#### Insight\n",
    "Much as a person would have different mental modes if the arrow of time flowed backward in the real world-if you lived with a life where you died on your first day and born on your last....imagine that scenario.\n",
    "\n",
    "A bidirectional RNN exploits this idea to improve the performance of chronological order RNNs. It looks at the input sequence in both ways where it gains richer preresentation and capturing patterns that may have been missed by a unidirectional RNN alone."
   ]
  },
  {
   "cell_type": "markdown",
   "metadata": {},
   "source": [
    "# Bidirectional LSTM"
   ]
  },
  {
   "cell_type": "code",
   "execution_count": 49,
   "metadata": {},
   "outputs": [],
   "source": [
    "model = Sequential()\n",
    "model.add(layers.Embedding(max_features, 128))\n",
    "model.add(layers.LSTM(32))\n",
    "model.add(layers.Dense(1, activation='sigmoid'))\n",
    "\n",
    "model.compile(optimizer='rmsprop',\n",
    "              loss='binary_crossentropy',\n",
    "              metrics=['acc'])"
   ]
  },
  {
   "cell_type": "code",
   "execution_count": 50,
   "metadata": {},
   "outputs": [
    {
     "name": "stdout",
     "output_type": "stream",
     "text": [
      "Train on 20000 samples, validate on 5000 samples\n",
      "Epoch 1/10\n",
      "20000/20000 [==============================] - 11s 557us/step - loss: 0.5449 - acc: 0.7119 - val_loss: 0.4927 - val_acc: 0.7700\n",
      "Epoch 2/10\n",
      "20000/20000 [==============================] - 10s 481us/step - loss: 0.3933 - acc: 0.8238 - val_loss: 0.5013 - val_acc: 0.7676\n",
      "Epoch 3/10\n",
      "20000/20000 [==============================] - 10s 497us/step - loss: 0.3407 - acc: 0.8532 - val_loss: 0.4939 - val_acc: 0.7618\n",
      "Epoch 4/10\n",
      "20000/20000 [==============================] - 11s 574us/step - loss: 0.3038 - acc: 0.8736 - val_loss: 0.4923 - val_acc: 0.7660\n",
      "Epoch 5/10\n",
      "20000/20000 [==============================] - 12s 592us/step - loss: 0.2727 - acc: 0.8851 - val_loss: 0.5981 - val_acc: 0.7620\n",
      "Epoch 6/10\n",
      "20000/20000 [==============================] - 11s 556us/step - loss: 0.2447 - acc: 0.8993 - val_loss: 0.6608 - val_acc: 0.7586\n",
      "Epoch 7/10\n",
      "20000/20000 [==============================] - 11s 552us/step - loss: 0.2143 - acc: 0.9146 - val_loss: 0.7346 - val_acc: 0.7500\n",
      "Epoch 8/10\n",
      "20000/20000 [==============================] - 11s 565us/step - loss: 0.1889 - acc: 0.9255 - val_loss: 0.7433 - val_acc: 0.7550\n",
      "Epoch 9/10\n",
      "20000/20000 [==============================] - 10s 522us/step - loss: 0.1621 - acc: 0.9374 - val_loss: 0.8631 - val_acc: 0.7460\n",
      "Epoch 10/10\n",
      "20000/20000 [==============================] - 10s 513us/step - loss: 0.1353 - acc: 0.9475 - val_loss: 0.7855 - val_acc: 0.7482\n"
     ]
    }
   ],
   "source": [
    "history = model.fit(x_train, y_train,\n",
    "                    epochs=10,\n",
    "                    batch_size=128,\n",
    "                    validation_split=0.2)"
   ]
  },
  {
   "cell_type": "code",
   "execution_count": 52,
   "metadata": {},
   "outputs": [
    {
     "data": {
      "image/png": "[encoded data removed]",
      "text/plain": [
       "<Figure size 432x288 with 1 Axes>"
      ]
     },
     "metadata": {
      "needs_background": "light"
     },
     "output_type": "display_data"
    }
   ],
   "source": [
    "import matplotlib.pyplot as plt\n",
    "loss = history.history['loss']\n",
    "val_loss = history.history['val_loss']\n",
    "epochs = range(1, len(loss) + 1)\n",
    "plt.figure()\n",
    "plt.plot(epochs, loss, 'bo', label='Training loss')\n",
    "plt.plot(epochs, val_loss, 'b', label='Validation loss')\n",
    "plt.title('Training and validation loss')\n",
    "plt.legend()\n",
    "plt.show()"
   ]
  },
  {
   "cell_type": "markdown",
   "metadata": {},
   "source": [
    "# Bidirectional GRU\n",
    "All the predictive capacity must come from the chronological half of the network, because the antichonological half is known to be underperforming."
   ]
  },
  {
   "cell_type": "code",
   "execution_count": null,
   "metadata": {},
   "outputs": [],
   "source": [
    "from keras.models import Sequential\n",
    "from keras import layers\n",
    "from keras.optimizers import RMSprop\n",
    "model = Sequential()\n",
    "model.add(layers.Bidirectional(\n",
    "    layers.GRU(32), input_shape=(None, float_data.shape[-1])))\n",
    "model.add(layers.Dense(1))\n",
    "model.compile(optimizer=RMSprop(), loss='mae')\n",
    "history = model.fit_generator(train_gen,\n",
    "                              steps_per_epoch=500,\n",
    "                              epochs=40,\n",
    "                              validation_data=val_gen,\n",
    "                              validation_steps=val_steps)"
   ]
  },
  {
   "cell_type": "code",
   "execution_count": null,
   "metadata": {},
   "outputs": [],
   "source": [
    "import matplotlib.pyplot as plt\n",
    "loss = history.history['loss']\n",
    "val_loss = history.history['val_loss']\n",
    "epochs = range(1, len(loss) + 1)\n",
    "plt.figure()\n",
    "plt.plot(epochs, loss, 'bo', label='Training loss')\n",
    "plt.plot(epochs, val_loss, 'b', label='Validation loss')\n",
    "plt.title('Training and validation loss')\n",
    "plt.legend()\n",
    "plt.show()"
   ]
  }
 ],
 "metadata": {
  "kernelspec": {
   "display_name": "Python 3",
   "language": "python",
   "name": "python3"
  },
  "language_info": {
   "codemirror_mode": {
    "name": "ipython",
    "version": 3
   },
   "file_extension": ".py",
   "mimetype": "text/x-python",
   "name": "python",
   "nbconvert_exporter": "python",
   "pygments_lexer": "ipython3",
   "version": "3.6.6"
  }
 },
 "nbformat": 4,
 "nbformat_minor": 2
}
