{
 "cells": [
  {
   "cell_type": "markdown",
   "metadata": {},
   "source": [
    "Two other reccurent layers in Keras are: `LSTM` and `GRU`. In practice these will be the reccurent layers to use as the SimpleRNN has a major issue: though it should theoretically be able to retain at time t information about inputs seen many timesteps before, in practice such long-term dependencies are impossible to learn. This is due to the vanishing gradient problem. This is similar to what is observed  with non-recurrent networks that are many layers deep. As more layers are added to the network, the network eventually becomes untrainable. `LSTM` and `GRU` were designed to solve this problem.\n",
    "\n",
    "LSTM stands for Long Short-Term Memory and was developed in 1997. It was the culmination of their research on the vanishing gradient problem. It is a varient of the SimpleRNN layer and it adds a way of carrying information across many timesteps. It accomplishes this like a conveyor belt running parallel to the sequences currently being processed. Information from the sequence can jump onto the conveyor belt at anytime, be transported to a later timestep, and jump off, intact, when ou need it. An LSTM can save information for later use, this preventing older signals from gradually vanishing during processing.\n",
    "\n",
    "Usecases where the LSTM's performance will shine is in question answering and machine translation."
   ]
  },
  {
   "cell_type": "markdown",
   "metadata": {},
   "source": [
    "# LSTM in Keras on the IMDB dataset"
   ]
  },
  {
   "cell_type": "code",
   "execution_count": 1,
   "metadata": {},
   "outputs": [
    {
     "name": "stderr",
     "output_type": "stream",
     "text": [
      "Using TensorFlow backend.\n"
     ]
    },
    {
     "name": "stdout",
     "output_type": "stream",
     "text": [
      "Loading data...\n",
      "25000 train sequences\n",
      "25000 test sequences\n",
      "Pad sequences (samples x time)\n",
      "input_train shape: (25000, 500)\n",
      "input_test shape: (25000, 500)\n"
     ]
    }
   ],
   "source": [
    "from keras.datasets import imdb\n",
    "from keras.preprocessing import sequence\n",
    "\n",
    "max_features = 10000\n",
    "maxlen = 500\n",
    "batch_size = 32\n",
    "\n",
    "print('Loading data...')\n",
    "(input_train, y_train), (input_test, y_test) = imdb.load_data(\n",
    "     num_words=max_features)\n",
    "print(len(input_train), 'train sequences')\n",
    "print(len(input_test), 'test sequences')\n",
    "print('Pad sequences (samples x time)')\n",
    "input_train = sequence.pad_sequences(input_train, maxlen=maxlen)\n",
    "input_test = sequence.pad_sequences(input_test, maxlen=maxlen)\n",
    "print('input_train shape:', input_train.shape)\n",
    "print('input_test shape:', input_test.shape)"
   ]
  },
  {
   "cell_type": "code",
   "execution_count": 2,
   "metadata": {},
   "outputs": [
    {
     "name": "stdout",
     "output_type": "stream",
     "text": [
      "Train on 20000 samples, validate on 5000 samples\n",
      "Epoch 1/10\n",
      "20000/20000 [==============================] - 79s 4ms/step - loss: 0.4940 - acc: 0.7694 - val_loss: 0.3688 - val_acc: 0.8548\n",
      "Epoch 2/10\n",
      "20000/20000 [==============================] - 79s 4ms/step - loss: 0.2926 - acc: 0.8855 - val_loss: 0.3122 - val_acc: 0.8650\n",
      "Epoch 3/10\n",
      "20000/20000 [==============================] - 79s 4ms/step - loss: 0.2391 - acc: 0.9084 - val_loss: 0.2948 - val_acc: 0.8762\n",
      "Epoch 4/10\n",
      "20000/20000 [==============================] - 86s 4ms/step - loss: 0.2048 - acc: 0.9239 - val_loss: 0.3103 - val_acc: 0.8660\n",
      "Epoch 5/10\n",
      "20000/20000 [==============================] - 80s 4ms/step - loss: 0.1753 - acc: 0.9352 - val_loss: 0.3141 - val_acc: 0.8840\n",
      "Epoch 6/10\n",
      "20000/20000 [==============================] - 101s 5ms/step - loss: 0.1620 - acc: 0.9409 - val_loss: 0.3431 - val_acc: 0.8548\n",
      "Epoch 7/10\n",
      "20000/20000 [==============================] - 99s 5ms/step - loss: 0.1503 - acc: 0.9469 - val_loss: 0.5528 - val_acc: 0.8036\n",
      "Epoch 8/10\n",
      "20000/20000 [==============================] - 101s 5ms/step - loss: 0.1328 - acc: 0.9535 - val_loss: 0.5509 - val_acc: 0.8420\n",
      "Epoch 9/10\n",
      "20000/20000 [==============================] - 99s 5ms/step - loss: 0.1265 - acc: 0.9563 - val_loss: 0.3270 - val_acc: 0.8808\n",
      "Epoch 10/10\n",
      "20000/20000 [==============================] - 95s 5ms/step - loss: 0.1107 - acc: 0.9621 - val_loss: 0.4004 - val_acc: 0.8790\n"
     ]
    }
   ],
   "source": [
    "from keras.layers import LSTM, Embedding, LSTM, Dense\n",
    "from keras.models import Sequential\n",
    "model = Sequential()\n",
    "model.add(Embedding(max_features, 32))\n",
    "model.add(LSTM(32))\n",
    "model.add(Dense(1, activation='sigmoid'))\n",
    "model.compile(optimizer='rmsprop',\n",
    "              loss='binary_crossentropy',\n",
    "              metrics=['acc'])\n",
    "history = model.fit(input_train, y_train,\n",
    "                    epochs=10,\n",
    "                    batch_size=128,\n",
    "                    validation_split=0.2)"
   ]
  },
  {
   "cell_type": "markdown",
   "metadata": {},
   "source": [
    "# Plot the performace of the LSTM\n",
    "From above we can see the LSTM reaches about 88% accuracy."
   ]
  },
  {
   "cell_type": "code",
   "execution_count": 3,
   "metadata": {},
   "outputs": [],
   "source": [
    "import matplotlib.pyplot as plt\n",
    "acc = history.history['acc']\n",
    "val_acc = history.history['val_acc']\n",
    "loss = history.history['loss']\n",
    "val_loss = history.history['val_loss']\n",
    "epochs = range(1, len(acc) + 1)"
   ]
  },
  {
   "cell_type": "code",
   "execution_count": 4,
   "metadata": {},
   "outputs": [
    {
     "data": {
      "text/plain": [
       "<matplotlib.legend.Legend at 0x1296aba90>"
      ]
     },
     "execution_count": 4,
     "metadata": {},
     "output_type": "execute_result"
    },
    {
     "data": {
      "image/png": "[encoded data removed]",
      "text/plain": [
       "<Figure size 432x288 with 1 Axes>"
      ]
     },
     "metadata": {
      "needs_background": "light"
     },
     "output_type": "display_data"
    }
   ],
   "source": [
    "plt.figure()\n",
    "plt.plot(epochs, loss, 'bo', label='Training loss')\n",
    "plt.plot(epochs, val_loss, 'b', label='Validation loss')\n",
    "plt.title('Training and validation loss')\n",
    "plt.legend()"
   ]
  },
  {
   "cell_type": "code",
   "execution_count": 5,
   "metadata": {},
   "outputs": [
    {
     "data": {
      "text/plain": [
       "<matplotlib.legend.Legend at 0x1297b5780>"
      ]
     },
     "execution_count": 5,
     "metadata": {},
     "output_type": "execute_result"
    },
    {
     "data": {
      "image/png": "[encoded data removed]",
      "text/plain": [
       "<Figure size 432x288 with 1 Axes>"
      ]
     },
     "metadata": {
      "needs_background": "light"
     },
     "output_type": "display_data"
    }
   ],
   "source": [
    "plt.plot(epochs, acc, 'bo', label='Training acc')\n",
    "plt.plot(epochs, val_acc, 'b', label='Validation acc')\n",
    "plt.title('Training and validation accuracy')\n",
    "plt.legend()"
   ]
  },
  {
   "cell_type": "code",
   "execution_count": 6,
   "metadata": {},
   "outputs": [
    {
     "name": "stdout",
     "output_type": "stream",
     "text": [
      "25000/25000 [==============================] - 62s 2ms/step\n"
     ]
    }
   ],
   "source": [
    "test_loss, test_acc = model.evaluate(input_test, y_test)"
   ]
  },
  {
   "cell_type": "markdown",
   "metadata": {},
   "source": [
    "## The test accuracy of the model is around 85%\n",
    "One reason the LSTM isn't performing betwee is that we did not make an effort to tune the hyperparameters such as the embedding dimensionality or the LSTM dimensionality."
   ]
  },
  {
   "cell_type": "code",
   "execution_count": 7,
   "metadata": {},
   "outputs": [
    {
     "name": "stdout",
     "output_type": "stream",
     "text": [
      "test accuracy is:  0.86084 0.46922305010318754\n"
     ]
    }
   ],
   "source": [
    "print ('test accuracy is: ', test_acc, test_loss)"
   ]
  },
  {
   "cell_type": "code",
   "execution_count": null,
   "metadata": {},
   "outputs": [],
   "source": []
  }
 ],
 "metadata": {
  "kernelspec": {
   "display_name": "Python 3",
   "language": "python",
   "name": "python3"
  },
  "language_info": {
   "codemirror_mode": {
    "name": "ipython",
    "version": 3
   },
   "file_extension": ".py",
   "mimetype": "text/x-python",
   "name": "python",
   "nbconvert_exporter": "python",
   "pygments_lexer": "ipython3",
   "version": "3.6.6"
  }
 },
 "nbformat": 4,
 "nbformat_minor": 2
}
