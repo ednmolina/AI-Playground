{
 "cells": [
  {
   "cell_type": "markdown",
   "metadata": {},
   "source": [
    "# Load the DataSet\n",
    "The Dataset is a set of 50,000 of highly polarized review from the Internet Movie Databse. They're split into 25k reviews for training and 25k for testing. Each set containing 50% positive and 50% negative reviews."
   ]
  },
  {
   "cell_type": "code",
   "execution_count": 58,
   "metadata": {},
   "outputs": [],
   "source": [
    "import numpy as np\n",
    "import matplotlib.pyplot as plt\n",
    "from keras.datasets import imdb\n",
    "from keras import models, layers, losses, metrics, optimizers"
   ]
  },
  {
   "cell_type": "markdown",
   "metadata": {},
   "source": [
    "num_words means will will keep only the top 10k most frequently ocuring words. Rare words will be discarded. This allows the size of the data set to me manageable.\n",
    "\n",
    "The variables train_data and test_data are lists of reviews. Each review in the list is a list of word indicies. train_labels and test_labels are lists of 0s and 1s where 0 means negative and 1 means positive."
   ]
  },
  {
   "cell_type": "code",
   "execution_count": 59,
   "metadata": {},
   "outputs": [],
   "source": [
    "(train_data, train_labels), (test_data, test_labels) = imdb.load_data(\n",
    "    num_words=10000)"
   ]
  },
  {
   "cell_type": "code",
   "execution_count": 60,
   "metadata": {
    "scrolled": true
   },
   "outputs": [
    {
     "name": "stdout",
     "output_type": "stream",
     "text": [
      "A slice of the first review: [1, 14, 22, 16, 43, 530, 973, 1622] \n",
      " A Label for the frist review: 1\n"
     ]
    }
   ],
   "source": [
    "print ('A slice of the first review:', train_data[0][0:8], '\\n',\n",
    "       'A Label for the frist review:', train_labels[0])"
   ]
  },
  {
   "cell_type": "code",
   "execution_count": 61,
   "metadata": {},
   "outputs": [
    {
     "data": {
      "text/plain": [
       "9999"
      ]
     },
     "execution_count": 61,
     "metadata": {},
     "output_type": "execute_result"
    }
   ],
   "source": [
    "# Check to se that the number of words we have does not exceed 10k\n",
    "max([max(sequence) for sequence in train_data])"
   ]
  },
  {
   "cell_type": "code",
   "execution_count": 62,
   "metadata": {},
   "outputs": [],
   "source": [
    "# Decode from reviews to english\n",
    "word_index = imdb.get_word_index()\n",
    "reverse_word_index = dict([(value, key) for (key, value) in word_index.items()])\n",
    "decoded_review = ' '.join([reverse_word_index.get(i - 3, '?') for i in train_data[0]])"
   ]
  },
  {
   "cell_type": "markdown",
   "metadata": {},
   "source": [
    "# Preparing the data\n",
    "Two ways of turning data, the lists, into tensors\n",
    "* Pad the lists to that they all have the same length, then turn them into an integer tensor of shape (samples, word_indicies)\n",
    "    * use this a the first layer in the network\n",
    "* One-hot encode the lists to turn them into vectors of -s and 1s.\n",
    "    * The sequence $\\left[ 3, 5 \\right]$ will be a 10k dimensional nector that will be 0s except for indicies 3 and 5 which will be filled with 1s.\n",
    "\n",
    "    * can use this as the first layer\n",
    "    \n",
    "We will one hot encode the data"
   ]
  },
  {
   "cell_type": "code",
   "execution_count": 63,
   "metadata": {},
   "outputs": [],
   "source": [
    "def vectorize_sequences(sequences, dimension = 10000):\n",
    "    results = np.zeros((len(sequences), dimension))\n",
    "    for i, sequence in enumerate(sequences):\n",
    "        results[i, sequence] = 1\n",
    "    return results"
   ]
  },
  {
   "cell_type": "code",
   "execution_count": 77,
   "metadata": {},
   "outputs": [],
   "source": [
    "x_train = vectorize_sequences(train_data)\n",
    "x_test = vectorize_sequences(test_data)"
   ]
  },
  {
   "cell_type": "code",
   "execution_count": 78,
   "metadata": {},
   "outputs": [
    {
     "data": {
      "text/plain": [
       "array([0., 1., 1., ..., 0., 0., 0.])"
      ]
     },
     "execution_count": 78,
     "metadata": {},
     "output_type": "execute_result"
    }
   ],
   "source": [
    "# This is what one of the samples look like\n",
    "x_train[0]"
   ]
  },
  {
   "cell_type": "code",
   "execution_count": 79,
   "metadata": {},
   "outputs": [],
   "source": [
    "y_train = np.asarray((train_labels).astype('float32'))\n",
    "y_test = np.asarray((test_labels).astype('float32'))"
   ]
  },
  {
   "cell_type": "markdown",
   "metadata": {},
   "source": [
    "# Building the network\n",
    "Inputs: Vectors\n",
    "Labels: Scalars (0s and 1s)\n",
    "\n",
    "This type of network will do well is a simple stack of fully connected (Dense) layers with relu activations. There will be 16 hidden units in the layer which is a dimension in the representation space of the layer. A dense layer with a relu activation implements the following chain of tensor operations\n",
    "$$\n",
    "\\text{output} = \\text{relu}\\left(  \\text{dot}\\left(  W, \\text{input} \\right) + b\\right)\n",
    "$$\n",
    "\n",
    "Activation functions all\n",
    "\n",
    "16 hidden units means the weight matrix $W$ will have the shape: (input dimension, 16). The dot product with $W$ will project the input data onto a 16-dimensional representation space. Having more hidden units allows the network to learn more-complex representation, but it will make the network more computationally expensive and may lead to learning unwanted patters (patterns that will improve the performance on the training data but not on the test data).\n",
    "\n",
    "Things to consider when using Dense layers:\n",
    "    * How many layers to use\n",
    "    * How many hidden units to use for each layer\n",
    " "
   ]
  },
  {
   "cell_type": "code",
   "execution_count": 80,
   "metadata": {},
   "outputs": [],
   "source": [
    "model = models.Sequential()\n",
    "model.add(layers.Dense(16, activation='relu', input_shape=(10000,)))\n",
    "model.add(layers.Dense(16, activation='relu'))\n",
    "model.add(layers.Dense(1, activation='sigmoid'))"
   ]
  },
  {
   "cell_type": "markdown",
   "metadata": {},
   "source": [
    "## Choose a loss function and optimizer\n",
    "Because we're working with binary classifcation (positive, negative) and the output of the network is a probability it's best to use `binary_crossentropy` loss. `mean_squared_error` can also be used. However, `crossentropy` us a quantity from Information Theory that measures the distance between probability distributions, between the ground truth distribution and the predictions.\n",
    "\n",
    "We configure the model with the `rmsprop` optimizer and `binary_crossentropy` loss function."
   ]
  },
  {
   "cell_type": "code",
   "execution_count": 81,
   "metadata": {},
   "outputs": [],
   "source": [
    "# model.compile(optimizer = optimizers.RMSprop(lr=0.001),\n",
    "#              loss = losses.binary_crossentropy,\n",
    "#              metrics = [metrics.binary_accuracy])\n",
    "model.compile(optimizer='rmsprop',\n",
    "              loss='binary_crossentropy',\n",
    "              metrics=['acc'])"
   ]
  },
  {
   "cell_type": "code",
   "execution_count": 82,
   "metadata": {},
   "outputs": [],
   "source": [
    "# Prepare the validation data\n",
    "x_val = x_train[:10000]\n",
    "partial_x_train = x_train[10000:]\n",
    "y_val = y_train[:10000]\n",
    "partial_y_train = y_train[10000:]"
   ]
  },
  {
   "cell_type": "markdown",
   "metadata": {},
   "source": [
    "# Train the network\n",
    "This will take less than 2 seconds per epoch. Ther ewill be a slight pause at the end of every epoch as the model omputes loss and accuracy on the 10,000 samples of the validation data.\n",
    "\n",
    "The histroy object is a dictionary containing data on everything that happened during the training. The dictionary has four entries: one per metric during the training and validation."
   ]
  },
  {
   "cell_type": "code",
   "execution_count": 83,
   "metadata": {
    "scrolled": true
   },
   "outputs": [
    {
     "name": "stdout",
     "output_type": "stream",
     "text": [
      "Train on 15000 samples, validate on 10000 samples\n",
      "Epoch 1/20\n",
      "15000/15000 [==============================] - 2s 123us/step - loss: 0.5150 - acc: 0.7897 - val_loss: 0.3957 - val_acc: 0.8631\n",
      "Epoch 2/20\n",
      "15000/15000 [==============================] - 1s 75us/step - loss: 0.3130 - acc: 0.8994 - val_loss: 0.3197 - val_acc: 0.8771\n",
      "Epoch 3/20\n",
      "15000/15000 [==============================] - 1s 73us/step - loss: 0.2286 - acc: 0.9269 - val_loss: 0.2912 - val_acc: 0.8849\n",
      "Epoch 4/20\n",
      "15000/15000 [==============================] - 1s 72us/step - loss: 0.1834 - acc: 0.9393 - val_loss: 0.2723 - val_acc: 0.8899\n",
      "Epoch 5/20\n",
      "15000/15000 [==============================] - 1s 80us/step - loss: 0.1486 - acc: 0.9517 - val_loss: 0.2835 - val_acc: 0.8863\n",
      "Epoch 6/20\n",
      "15000/15000 [==============================] - 1s 86us/step - loss: 0.1229 - acc: 0.9611 - val_loss: 0.2881 - val_acc: 0.8863\n",
      "Epoch 7/20\n",
      "15000/15000 [==============================] - 1s 84us/step - loss: 0.1036 - acc: 0.9698 - val_loss: 0.3045 - val_acc: 0.8844\n",
      "Epoch 8/20\n",
      "15000/15000 [==============================] - 1s 82us/step - loss: 0.0866 - acc: 0.9736 - val_loss: 0.3316 - val_acc: 0.8827\n",
      "Epoch 9/20\n",
      "15000/15000 [==============================] - 1s 77us/step - loss: 0.0710 - acc: 0.9811 - val_loss: 0.3488 - val_acc: 0.8810\n",
      "Epoch 10/20\n",
      "15000/15000 [==============================] - 1s 75us/step - loss: 0.0573 - acc: 0.9849 - val_loss: 0.3852 - val_acc: 0.8784\n",
      "Epoch 11/20\n",
      "15000/15000 [==============================] - 1s 72us/step - loss: 0.0477 - acc: 0.9876 - val_loss: 0.4047 - val_acc: 0.8757\n",
      "Epoch 12/20\n",
      "15000/15000 [==============================] - 1s 75us/step - loss: 0.0415 - acc: 0.9893 - val_loss: 0.4363 - val_acc: 0.8730\n",
      "Epoch 13/20\n",
      "15000/15000 [==============================] - 1s 75us/step - loss: 0.0326 - acc: 0.9921 - val_loss: 0.4636 - val_acc: 0.8726\n",
      "Epoch 14/20\n",
      "15000/15000 [==============================] - 1s 87us/step - loss: 0.0263 - acc: 0.9947 - val_loss: 0.4959 - val_acc: 0.8721\n",
      "Epoch 15/20\n",
      "15000/15000 [==============================] - 1s 86us/step - loss: 0.0190 - acc: 0.9974 - val_loss: 0.5275 - val_acc: 0.8702\n",
      "Epoch 16/20\n",
      "15000/15000 [==============================] - 1s 85us/step - loss: 0.0165 - acc: 0.9975 - val_loss: 0.5746 - val_acc: 0.8659\n",
      "Epoch 17/20\n",
      "15000/15000 [==============================] - 1s 76us/step - loss: 0.0141 - acc: 0.9981 - val_loss: 0.5887 - val_acc: 0.8681\n",
      "Epoch 18/20\n",
      "15000/15000 [==============================] - 1s 84us/step - loss: 0.0101 - acc: 0.9989 - val_loss: 0.6272 - val_acc: 0.8677\n",
      "Epoch 19/20\n",
      "15000/15000 [==============================] - 1s 85us/step - loss: 0.0101 - acc: 0.9979 - val_loss: 0.6825 - val_acc: 0.8626\n",
      "Epoch 20/20\n",
      "15000/15000 [==============================] - 1s 77us/step - loss: 0.0047 - acc: 0.9998 - val_loss: 0.6863 - val_acc: 0.8666\n"
     ]
    }
   ],
   "source": [
    "history = model.fit(partial_x_train,\n",
    "                   partial_y_train,\n",
    "                   epochs = 20,\n",
    "                   batch_size = 512,\n",
    "                   validation_data = (x_val, y_val))"
   ]
  },
  {
   "cell_type": "markdown",
   "metadata": {},
   "source": [
    "# Plot the training and validation loss\n",
    "It can be seen that train loss decreases with every epoch and the training accuracy increases with every epoch. This is expect when running gradient descent optimization-the quantity being minimized should be less with every optimization. This is not the case for validation loss and accuracy: the peak to some point. This is an example of overfitting, when the model performs better on the training data doens't nevessarily model on novel data."
   ]
  },
  {
   "cell_type": "code",
   "execution_count": 84,
   "metadata": {},
   "outputs": [
    {
     "data": {
      "text/plain": [
       "dict_keys(['val_loss', 'val_acc', 'loss', 'acc'])"
      ]
     },
     "execution_count": 84,
     "metadata": {},
     "output_type": "execute_result"
    }
   ],
   "source": [
    "# Print the keys of the dictionary\n",
    "history.history.keys()"
   ]
  },
  {
   "cell_type": "code",
   "execution_count": 85,
   "metadata": {},
   "outputs": [],
   "source": [
    "history_dict = history.history\n",
    "loss_values = history_dict['loss']\n",
    "val_loss_values = history_dict['val_loss']\n",
    "\n",
    "epochs = range(1, 20 + 1)"
   ]
  },
  {
   "cell_type": "code",
   "execution_count": 86,
   "metadata": {},
   "outputs": [
    {
     "data": {
      "image/png": "[encoded data removed]",
      "text/plain": [
       "<Figure size 432x288 with 1 Axes>"
      ]
     },
     "metadata": {
      "needs_background": "light"
     },
     "output_type": "display_data"
    }
   ],
   "source": [
    "plt.plot(loss_values, 'bo', label='Training loss')\n",
    "plt.plot(val_loss_values, 'b', label='Validation loss')\n",
    "\n",
    "plt.title('Training and validation loss')\n",
    "plt.xlabel('Epochs')\n",
    "plt.ylabel('Loss')\n",
    "plt.legend()\n",
    "\n",
    "plt.show()"
   ]
  },
  {
   "cell_type": "code",
   "execution_count": 87,
   "metadata": {},
   "outputs": [
    {
     "data": {
      "image/png": "[encoded data removed]",
      "text/plain": [
       "<Figure size 432x288 with 1 Axes>"
      ]
     },
     "metadata": {
      "needs_background": "light"
     },
     "output_type": "display_data"
    }
   ],
   "source": [
    "plt.clf()\n",
    "acc_values = history_dict['acc']\n",
    "val_acc_values = history_dict['val_acc']\n",
    "\n",
    "plt.plot(acc_values, 'bo', label='accuracy')\n",
    "plt.plot(val_acc_values, 'b', label='validation accuracy')\n",
    "\n",
    "plt.title('Training and validation accuracy')\n",
    "plt.xlabel('Epochs')\n",
    "plt.ylabel('Loss')\n",
    "plt.legend()\n",
    "\n",
    "plt.show()"
   ]
  },
  {
   "cell_type": "markdown",
   "metadata": {},
   "source": [
    "# Retrain a new model to prevent overfitting"
   ]
  },
  {
   "cell_type": "code",
   "execution_count": 88,
   "metadata": {},
   "outputs": [
    {
     "name": "stdout",
     "output_type": "stream",
     "text": [
      "Epoch 1/4\n",
      "25000/25000 [==============================] - 2s 61us/step - loss: 0.4687 - acc: 0.8208\n",
      "Epoch 2/4\n",
      "25000/25000 [==============================] - 1s 57us/step - loss: 0.2663 - acc: 0.9080\n",
      "Epoch 3/4\n",
      "25000/25000 [==============================] - 1s 57us/step - loss: 0.2028 - acc: 0.9282\n",
      "Epoch 4/4\n",
      "25000/25000 [==============================] - 1s 58us/step - loss: 0.1685 - acc: 0.9392\n",
      "25000/25000 [==============================] - 2s 81us/step\n"
     ]
    }
   ],
   "source": [
    "model = models.Sequential()\n",
    "model.add(layers.Dense(16, activation='relu', input_shape=(10000,)))\n",
    "model.add(layers.Dense(16, activation='relu'))\n",
    "model.add(layers.Dense(1, activation='sigmoid'))\n",
    "model.compile(optimizer='rmsprop',\n",
    "              loss='binary_crossentropy',\n",
    "              metrics=['accuracy'])\n",
    "model.fit(x_train, y_train, epochs=4, batch_size=512)\n",
    "results = model.evaluate(x_test, y_test)"
   ]
  },
  {
   "cell_type": "markdown",
   "metadata": {},
   "source": [
    "## The new model achieves an accuracy of 88%"
   ]
  },
  {
   "cell_type": "code",
   "execution_count": 89,
   "metadata": {},
   "outputs": [
    {
     "data": {
      "text/plain": [
       "[0.29121099311828613, 0.88524]"
      ]
     },
     "execution_count": 89,
     "metadata": {},
     "output_type": "execute_result"
    }
   ],
   "source": [
    "results"
   ]
  },
  {
   "cell_type": "markdown",
   "metadata": {},
   "source": [
    "# Use the trained netwrok to generate predictions on new data\n",
    "The model is confident on some samples, and not on other where the score is .4, .6 ish\n"
   ]
  },
  {
   "cell_type": "code",
   "execution_count": 94,
   "metadata": {},
   "outputs": [
    {
     "data": {
      "text/plain": [
       "array([[0.17670843],\n",
       "       [0.99996305],\n",
       "       [0.8742501 ],\n",
       "       ...,\n",
       "       [0.09365413],\n",
       "       [0.06663922],\n",
       "       [0.53076005]], dtype=float32)"
      ]
     },
     "execution_count": 94,
     "metadata": {},
     "output_type": "execute_result"
    }
   ],
   "source": [
    "model.predict(x_test)"
   ]
  },
  {
   "cell_type": "code",
   "execution_count": null,
   "metadata": {},
   "outputs": [],
   "source": []
  }
 ],
 "metadata": {
  "kernelspec": {
   "display_name": "Python 3",
   "language": "python",
   "name": "python3"
  },
  "language_info": {
   "codemirror_mode": {
    "name": "ipython",
    "version": 3
   },
   "file_extension": ".py",
   "mimetype": "text/x-python",
   "name": "python",
   "nbconvert_exporter": "python",
   "pygments_lexer": "ipython3",
   "version": "3.6.6"
  }
 },
 "nbformat": 4,
 "nbformat_minor": 2
}
