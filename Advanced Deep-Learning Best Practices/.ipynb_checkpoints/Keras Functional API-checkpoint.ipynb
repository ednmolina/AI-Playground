{
 "cells": [
  {
   "cell_type": "markdown",
   "metadata": {},
   "source": [
    "# Keras Functional API\n",
    "This notebook will epxplore the more advanced tools availabe for developing state-of-the art models on difficult problems. The functional API in keras allows developers to build graph-like models, share a layer across different inputs, and use Keras models like Python functions. Keras callbacks and TensorBoard allows a developer to monitor models *during* training."
   ]
  },
  {
   "cell_type": "markdown",
   "metadata": {},
   "source": [
    "# Keras Functional API: Going beyond the Sequential Model\n",
    "Until now, the neural networks built prior to this notebook have been implemented using the `Sequential` model. The `Sequential` model assumes that the netorks exactly has one input and exactly one output, and it consists of a linear stack of layers. This model works in many ases, but is too inflexible for some number of cases. Some networks will require multiple inputs, some may require multiple outputs, and some networks have internal branching between layers that make them look like graphs rather than linear stacks of layers.\n",
    "\n",
    "Other tasks require multimodal inputs, where they merge data from different input sources, processing each type of data using different types of layers. For example inputs for predicting a stock price could be text for sentiment analysis, and prices for regression.\n",
    "\n",
    "Some taks need to predict multiple target attributes of input data, meaning they need to have multiple outputs. For exmaple, given a text from a novel is it possble to categorize it into a genre and time period it was written in? It's possble to train it with two models, but these attributes are not statistically independent, a better model can wok by jointly predicting both at the same time. This is because there are correlations with date and genre. For example, William Shakespeare's plays are very much different those of Arthur Miller. Two different playwrites with differing generes and time periods.\n",
    "\n",
    "Futhermore, recently developed neural achitectures require nonlinear network topology: networks that are structed as directed acyclic. graphs."
   ]
  },
  {
   "cell_type": "markdown",
   "metadata": {},
   "source": [
    "## Introduction to the Functional API"
   ]
  },
  {
   "cell_type": "code",
   "execution_count": 10,
   "metadata": {},
   "outputs": [],
   "source": [
    "from keras.models import Sequential, Model\n",
    "from keras import layers\n",
    "from keras import Input"
   ]
  },
  {
   "cell_type": "markdown",
   "metadata": {},
   "source": [
    "Make three layers\n",
    "A `Dense` layer with 32 units taking in parameters of shape 64\n",
    "\n",
    "Another `Dense` layer with 32 units\n",
    "\n",
    "Last layer is a `Dense` layer outputting a vector of length 10"
   ]
  },
  {
   "cell_type": "code",
   "execution_count": 11,
   "metadata": {},
   "outputs": [],
   "source": [
    "seq_model = Sequential()\n",
    "seq_model.add(layers.Dense(32, activation = 'relu', input_shape=(64,)))\n",
    "seq_model.add(layers.Dense(32, activation = 'relu'))\n",
    "seq_model.add(layers.Dense(10, activation = 'softmax'))"
   ]
  },
  {
   "cell_type": "code",
   "execution_count": 12,
   "metadata": {},
   "outputs": [],
   "source": [
    "input_tensor = Input(shape=(64,))\n",
    "x = layers.Dense(32, activation='relu')(input_tensor)\n",
    "x = layers.Dense(32, activation='relu')(x)\n",
    "output_tensor = layers.Dense(10, activation='softmax')(x)"
   ]
  },
  {
   "cell_type": "markdown",
   "metadata": {},
   "source": [
    "This works because the `output_tensor` was obtained by repeatedly transforming `input_tensor`."
   ]
  },
  {
   "cell_type": "code",
   "execution_count": 13,
   "metadata": {},
   "outputs": [],
   "source": [
    "model = Model(input_tensor, output_tensor)"
   ]
  },
  {
   "cell_type": "code",
   "execution_count": 14,
   "metadata": {},
   "outputs": [
    {
     "name": "stdout",
     "output_type": "stream",
     "text": [
      "_________________________________________________________________\n",
      "Layer (type)                 Output Shape              Param #   \n",
      "=================================================================\n",
      "input_2 (InputLayer)         (None, 64)                0         \n",
      "_________________________________________________________________\n",
      "dense_10 (Dense)             (None, 32)                2080      \n",
      "_________________________________________________________________\n",
      "dense_11 (Dense)             (None, 32)                1056      \n",
      "_________________________________________________________________\n",
      "dense_12 (Dense)             (None, 10)                330       \n",
      "=================================================================\n",
      "Total params: 3,466\n",
      "Trainable params: 3,466\n",
      "Non-trainable params: 0\n",
      "_________________________________________________________________\n"
     ]
    }
   ],
   "source": [
    "model.summary()"
   ]
  },
  {
   "cell_type": "code",
   "execution_count": 15,
   "metadata": {},
   "outputs": [],
   "source": [
    "model.compile(optimizer='rmsprop', loss='categorical_crossentropy')"
   ]
  },
  {
   "cell_type": "code",
   "execution_count": 16,
   "metadata": {},
   "outputs": [],
   "source": [
    "import numpy as np\n",
    "\n",
    "# Generate Dummy Data\n",
    "x_train = np.random.random((1000, 64))\n",
    "y_train = np.random.random((1000, 10))"
   ]
  },
  {
   "cell_type": "code",
   "execution_count": 17,
   "metadata": {},
   "outputs": [
    {
     "name": "stdout",
     "output_type": "stream",
     "text": [
      "Epoch 1/10\n",
      "1000/1000 [==============================] - 0s 240us/step - loss: 11.5674\n",
      "Epoch 2/10\n",
      "1000/1000 [==============================] - 0s 13us/step - loss: 11.5016\n",
      "Epoch 3/10\n",
      "1000/1000 [==============================] - 0s 12us/step - loss: 11.4870\n",
      "Epoch 4/10\n",
      "1000/1000 [==============================] - 0s 14us/step - loss: 11.4789\n",
      "Epoch 5/10\n",
      "1000/1000 [==============================] - 0s 13us/step - loss: 11.4723\n",
      "Epoch 6/10\n",
      "1000/1000 [==============================] - 0s 12us/step - loss: 11.4683\n",
      "Epoch 7/10\n",
      "1000/1000 [==============================] - 0s 13us/step - loss: 11.4646\n",
      "Epoch 8/10\n",
      "1000/1000 [==============================] - 0s 13us/step - loss: 11.4619\n",
      "Epoch 9/10\n",
      "1000/1000 [==============================] - 0s 12us/step - loss: 11.4598\n",
      "Epoch 10/10\n",
      "1000/1000 [==============================] - 0s 15us/step - loss: 11.4575\n"
     ]
    },
    {
     "data": {
      "text/plain": [
       "<keras.callbacks.History at 0x12df3ffd0>"
      ]
     },
     "execution_count": 17,
     "metadata": {},
     "output_type": "execute_result"
    }
   ],
   "source": [
    "model.fit(x_train, y_train, epochs=10, batch_size=128)"
   ]
  },
  {
   "cell_type": "code",
   "execution_count": 18,
   "metadata": {},
   "outputs": [
    {
     "name": "stdout",
     "output_type": "stream",
     "text": [
      "1000/1000 [==============================] - 0s 45us/step\n"
     ]
    }
   ],
   "source": [
    "score = model.evaluate(x_train, y_train)"
   ]
  },
  {
   "cell_type": "markdown",
   "metadata": {},
   "source": [
    "# Multi-Input Models\n",
    "The Keras functional APU can be used to build models that have multiple inputs. These models at some point merge their different input branches using a layer that can combine several tensors by: adding them, concatenating them, etc. This can be done with operations like `keras.layers.add`, `keras.layers.concatenate`, etc. A simple multi-input model is a question-answering model.\n",
    "\n",
    "A typical question-answering model has two inputs\" a natural-language question and a text snippet providing informatioed that will be used for answering the question. The model must produce an answer, the simplest one would be a one word answer obtained from a softmax over some preefined vocabulary.\n",
    "\n",
    "The example below will show how to build a question-answering network with the functional API. Two independent branches will be set up, one that encodes text input and the question input as representation vectors, then concatenare these vectors, and finally add a softmax classifier on the top of the concatenated representations."
   ]
  },
  {
   "cell_type": "code",
   "execution_count": 84,
   "metadata": {},
   "outputs": [],
   "source": [
    "from keras.models import Model\n",
    "from keras import layers\n",
    "#from keras import Input\n",
    "from keras.layers import LSTM, Input, Dense, Embedding\n",
    "\n",
    "text_vocabulary_size = int(1e4)\n",
    "question_vocabulary_size = int(10e4)\n",
    "answer_vocabulary_size = int(500)"
   ]
  },
  {
   "cell_type": "code",
   "execution_count": 91,
   "metadata": {},
   "outputs": [],
   "source": [
    "\"Text Input\"\n",
    "text_input = Input(shape=(None,), dtype='int32', name='text')\n",
    "\n",
    "# Embeds the inputs into vectors of size 64\n",
    "embedded_text = layers.Embedding(text_vocabulary_size,64)(text_input)\n",
    "\n",
    "# Encodes the vectors in a single vector via an LSTM\n",
    "encoded_text = layers.LSTM(32)(embedded_text)\n",
    "\n",
    "\"Question Input\"\n",
    "question_input = Input(shape=(None,),dtype='int32',name='question')\n",
    "\n",
    "# Embeds the question into vectors of size 32\n",
    "embedded_question = layers.Embedding(question_vocabulary_size,32)(question_input)\n",
    "\n",
    "# Encode the question into vector of size 16 via an LSTM\n",
    "encoded_question = layers.LSTM(16)(embedded_question)\n",
    "\n",
    "\"Concatenate the layers\"\n",
    "concatenated = layers.concatenate([encoded_text, encoded_question],axis=-1)\n",
    "\n",
    "# Add a dense layer to output one of 500 words in the dictionary\n",
    "# The dictionary of words is concatenated\n",
    "answer = layers.Dense(answer_vocabulary_size, activation='softmax')(concatenated)\n",
    "\n",
    "# Specity the two inputs, and then the output\n",
    "model = Model([text_input, question_input], answer)\n",
    "model.compile(optimizer='rmsprop',loss='categorical_crossentropy',metrics=['acc'])"
   ]
  },
  {
   "cell_type": "markdown",
   "metadata": {},
   "source": [
    "## Feed data to multi-input model"
   ]
  },
  {
   "cell_type": "code",
   "execution_count": 101,
   "metadata": {},
   "outputs": [],
   "source": [
    "import numpy as np\n",
    "\n",
    "# Number of samples and the maximum length of each sample\n",
    "num_samples = int(1e3)\n",
    "max_length = int(1e2)"
   ]
  },
  {
   "cell_type": "code",
   "execution_count": 102,
   "metadata": {},
   "outputs": [
    {
     "name": "stdout",
     "output_type": "stream",
     "text": [
      "Shape of Text Data:  (1000, 100)\n"
     ]
    }
   ],
   "source": [
    "# Creates a 2D array of 1000 samples\n",
    "# Each value is between 1 and text_vocabulary_size (1e4)\n",
    "text = np.random.randint(1, text_vocabulary_size,size=(num_samples, max_length))\n",
    "print ('Shape of Text Data: ', np.shape(text))"
   ]
  },
  {
   "cell_type": "code",
   "execution_count": 103,
   "metadata": {},
   "outputs": [
    {
     "name": "stdout",
     "output_type": "stream",
     "text": [
      "Shape of Question Data:  (1000, 100)\n"
     ]
    }
   ],
   "source": [
    "question = np.random.randint(1, question_vocabulary_size,size=(num_samples, max_length)) \n",
    "print ('Shape of Question Data: ', np.shape(question))"
   ]
  },
  {
   "cell_type": "code",
   "execution_count": 123,
   "metadata": {},
   "outputs": [
    {
     "name": "stdout",
     "output_type": "stream",
     "text": [
      "Shape of Answer Data:  (1000, 500)\n"
     ]
    }
   ],
   "source": [
    "# This is an example where answers are one-hot-encoded\n",
    "answers = np.random.randint(0, 2, size=(num_samples, answer_vocabulary_size))\n",
    "\n",
    "print ('Shape of Answer Data: ', np.shape(answers))"
   ]
  },
  {
   "cell_type": "markdown",
   "metadata": {},
   "source": [
    "## Fit the data to the model\n",
    "Two ways to fit the data"
   ]
  },
  {
   "cell_type": "code",
   "execution_count": 124,
   "metadata": {},
   "outputs": [
    {
     "name": "stdout",
     "output_type": "stream",
     "text": [
      "Epoch 1/10\n",
      "1000/1000 [==============================] - 1s 919us/step - loss: 1555.5237 - acc: 0.0040\n",
      "Epoch 2/10\n",
      "1000/1000 [==============================] - 1s 922us/step - loss: 1554.0025 - acc: 0.0020\n",
      "Epoch 3/10\n",
      "1000/1000 [==============================] - 1s 895us/step - loss: 1553.4081 - acc: 0.0020\n",
      "Epoch 4/10\n",
      "1000/1000 [==============================] - 1s 912us/step - loss: 1552.9585 - acc: 0.0020\n",
      "Epoch 5/10\n",
      "1000/1000 [==============================] - 1s 896us/step - loss: 1552.5483 - acc: 0.0020\n",
      "Epoch 6/10\n",
      "1000/1000 [==============================] - 1s 923us/step - loss: 1552.1272 - acc: 0.0030\n",
      "Epoch 7/10\n",
      "1000/1000 [==============================] - 1s 917us/step - loss: 1551.6566 - acc: 0.0020\n",
      "Epoch 8/10\n",
      "1000/1000 [==============================] - 1s 919us/step - loss: 1551.1500 - acc: 0.0040\n",
      "Epoch 9/10\n",
      "1000/1000 [==============================] - 1s 901us/step - loss: 1550.6501 - acc: 0.0020\n",
      "Epoch 10/10\n",
      "1000/1000 [==============================] - 1s 888us/step - loss: 1550.1602 - acc: 0.0040\n"
     ]
    }
   ],
   "source": [
    "# Fitting using a list of inputs\n",
    "history = model.fit([text, question], answers, epochs=10, batch_size=128)"
   ]
  },
  {
   "cell_type": "code",
   "execution_count": 130,
   "metadata": {},
   "outputs": [
    {
     "name": "stdout",
     "output_type": "stream",
     "text": [
      "Epoch 1/10\n",
      "1000/1000 [==============================] - 2s 2ms/step - loss: 1548.3595 - acc: 0.0050\n",
      "Epoch 2/10\n",
      "1000/1000 [==============================] - 2s 2ms/step - loss: 1547.8045 - acc: 0.0070\n",
      "Epoch 3/10\n",
      "1000/1000 [==============================] - 2s 2ms/step - loss: 1547.2915 - acc: 0.0050\n",
      "Epoch 4/10\n",
      "1000/1000 [==============================] - 2s 2ms/step - loss: 1546.7680 - acc: 0.0030\n",
      "Epoch 5/10\n",
      "1000/1000 [==============================] - 2s 2ms/step - loss: 1546.2336 - acc: 0.0060\n",
      "Epoch 6/10\n",
      "1000/1000 [==============================] - 2s 2ms/step - loss: 1545.7109 - acc: 0.0040\n",
      "Epoch 7/10\n",
      "1000/1000 [==============================] - 2s 2ms/step - loss: 1545.1990 - acc: 0.0050\n",
      "Epoch 8/10\n",
      "1000/1000 [==============================] - 2s 2ms/step - loss: 1544.7230 - acc: 0.0040\n",
      "Epoch 9/10\n",
      "1000/1000 [==============================] - 2s 2ms/step - loss: 1544.2248 - acc: 0.0050\n",
      "Epoch 10/10\n",
      "1000/1000 [==============================] - 2s 2ms/step - loss: 1543.7548 - acc: 0.0050\n"
     ]
    },
    {
     "data": {
      "text/plain": [
       "<keras.callbacks.History at 0x15003e780>"
      ]
     },
     "execution_count": 130,
     "metadata": {},
     "output_type": "execute_result"
    }
   ],
   "source": [
    "# Fitting using a dictionary of inputs\n",
    "model.fit({'text': text, 'question': question}, answers,\n",
    "                  epochs=10, batch_size=50)"
   ]
  },
  {
   "cell_type": "code",
   "execution_count": 132,
   "metadata": {},
   "outputs": [
    {
     "data": {
      "text/plain": [
       "[<matplotlib.lines.Line2D at 0x18ac902b0>]"
      ]
     },
     "execution_count": 132,
     "metadata": {},
     "output_type": "execute_result"
    },
    {
     "data": {
      "image/png": "[encoded data removed]",
      "text/plain": [
       "<Figure size 432x288 with 1 Axes>"
      ]
     },
     "metadata": {
      "needs_background": "light"
     },
     "output_type": "display_data"
    }
   ],
   "source": [
    "# plt.figure()\n",
    "plt.plot(history.history['loss'], label = 'Loss')\n",
    "plt.plot(history.history['acc'], label = 'Accuracy')"
   ]
  },
  {
   "cell_type": "markdown",
   "metadata": {},
   "source": [
    "# Multi-Output Models\n",
    "The Keras Fuctional API can be used to build models with multiple outputs (or multiple *heads*). An example would be a network that simultaneously predicts different properties of the data such as a network that inputs a series of social media posts from a person and predicts attributs such as age, gender, and income level."
   ]
  },
  {
   "cell_type": "code",
   "execution_count": 234,
   "metadata": {},
   "outputs": [
    {
     "name": "stdout",
     "output_type": "stream",
     "text": [
      "Model is ready!\n"
     ]
    }
   ],
   "source": [
    "from keras import layers\n",
    "from keras import Input \n",
    "from keras.models import Model \n",
    "\n",
    "vocabulary_size = 50000 \n",
    "num_income_groups = 10 \n",
    "\n",
    "posts_input = Input(shape=(None,), dtype='int32', name='posts')\n",
    "# embedded_posts = layers.Embedding(256, vocabulary_size)(posts_input) \n",
    "embedded_posts = layers.Embedding(vocabulary_size,256)(posts_input)\n",
    "x = layers.Conv1D(128, 5, activation='relu', padding='same')(embedded_posts)\n",
    "x = layers.MaxPooling1D(5)(x)\n",
    "x = layers.Conv1D(256, 5, activation='relu', padding='same')(x)\n",
    "x = layers.Conv1D(256, 5, activation='relu', padding='same')(x)\n",
    "x = layers.MaxPooling1D(5)(x)\n",
    "x = layers.Conv1D(256, 5, activation='relu', padding='same')(x)\n",
    "x = layers.Conv1D(256, 5, activation='relu', padding='same')(x) \n",
    "x = layers.GlobalMaxPooling1D()(x)\n",
    "x = layers.Dense(128, activation='relu')(x) \n",
    "\n",
    "# Note that the output layers are given names.\n",
    "age_prediction = layers.Dense(1, name='age')(x)\n",
    "income_prediction = layers.Dense(num_income_groups, activation='softmax',name='income')(x)\n",
    "gender_prediction = layers.Dense(1, activation='sigmoid', name='gender')(x)\n",
    "model = Model(posts_input,[age_prediction, income_prediction, gender_prediction])\n",
    "\n",
    "print(\"Model is ready!\")"
   ]
  },
  {
   "cell_type": "code",
   "execution_count": 235,
   "metadata": {},
   "outputs": [],
   "source": [
    "model.compile(optimizer='rmsprop',\n",
    "              loss=['mse', 'categorical_crossentropy', 'binary_crossentropy'],\n",
    "              loss_weights=[0.25, .2, .5]) "
   ]
  },
  {
   "cell_type": "code",
   "execution_count": 238,
   "metadata": {},
   "outputs": [
    {
     "data": {
      "text/plain": [
       "((1000, 100), (1000, 1), (1000, 10), (1000, 1))"
      ]
     },
     "execution_count": 238,
     "metadata": {},
     "output_type": "execute_result"
    }
   ],
   "source": [
    "import numpy as np\n",
    "\n",
    "num_samples = int(1e3)\n",
    "max_length = int(1e2)\n",
    "\n",
    "posts = np.random.randint(1, vocabulary_size, size=(num_samples, max_length))\n",
    "\n",
    "age_targets = np.random.randint(0, 100, size=(num_samples,1))\n",
    "\n",
    "income_targets = np.random.randint(1, num_income_groups, size=(num_samples,1))\n",
    "income_targets = keras.utils.to_categorical(income_targets,num_income_groups)\n",
    "\n",
    "gender_targets = np.random.randint(0, 2, size=(num_samples,1))\n",
    "\n",
    "np.shape(posts), np.shape(age_targets), np.shape(income_targets), np.shape(gender_targets)"
   ]
  },
  {
   "cell_type": "code",
   "execution_count": 239,
   "metadata": {},
   "outputs": [
    {
     "name": "stdout",
     "output_type": "stream",
     "text": [
      "Epoch 1/10\n",
      "1000/1000 [==============================] - 6s 6ms/step - loss: 1225.2502 - age_loss: 4893.4030 - income_loss: 7.4663 - gender_loss: 0.8123\n",
      "Epoch 2/10\n",
      "1000/1000 [==============================] - 3s 3ms/step - loss: 134.4679 - age_loss: 534.4133 - income_loss: 2.5890 - gender_loss: 0.6936\n",
      "Epoch 3/10\n",
      "1000/1000 [==============================] - 4s 4ms/step - loss: 55.5159 - age_loss: 218.8687 - income_loss: 2.2460 - gender_loss: 0.6991\n",
      "Epoch 4/10\n",
      "1000/1000 [==============================] - 4s 4ms/step - loss: 65.0394 - age_loss: 256.9312 - income_loss: 2.2827 - gender_loss: 0.7001\n",
      "Epoch 5/10\n",
      "1000/1000 [==============================] - 4s 4ms/step - loss: 108.8569 - age_loss: 432.2432 - income_loss: 2.2210 - gender_loss: 0.7039\n",
      "Epoch 6/10\n",
      "1000/1000 [==============================] - 4s 4ms/step - loss: 108.5887 - age_loss: 431.0679 - income_loss: 2.2758 - gender_loss: 0.7331\n",
      "Epoch 7/10\n",
      "1000/1000 [==============================] - 4s 4ms/step - loss: 114.0561 - age_loss: 452.9983 - income_loss: 2.2760 - gender_loss: 0.7026\n",
      "Epoch 8/10\n",
      "1000/1000 [==============================] - 4s 4ms/step - loss: 80.0787 - age_loss: 317.0764 - income_loss: 2.2606 - gender_loss: 0.7150\n",
      "Epoch 9/10\n",
      "1000/1000 [==============================] - 4s 4ms/step - loss: 87.1864 - age_loss: 345.4889 - income_loss: 2.3227 - gender_loss: 0.6992\n",
      "Epoch 10/10\n",
      "1000/1000 [==============================] - 4s 4ms/step - loss: 75.3127 - age_loss: 298.0460 - income_loss: 2.2574 - gender_loss: 0.6994\n"
     ]
    }
   ],
   "source": [
    "history = model.fit(posts, [age_targets, income_targets, gender_targets], epochs=10, batch_size=64)"
   ]
  },
  {
   "cell_type": "code",
   "execution_count": 240,
   "metadata": {},
   "outputs": [
    {
     "data": {
      "image/png": "[encoded data removed]",
      "text/plain": [
       "<Figure size 432x288 with 1 Axes>"
      ]
     },
     "metadata": {
      "needs_background": "light"
     },
     "output_type": "display_data"
    }
   ],
   "source": [
    "plt.figure()\n",
    "plt.plot(history.history['age_loss'], label = 'Age Loss')\n",
    "plt.plot(history.history['income_loss'], label = 'Income Loss')\n",
    "plt.plot(history.history['gender_loss'], label = 'Gender Loss')\n",
    "\n",
    "plt.legend()\n",
    "\n",
    "plt.xlabel('Epoch')\n",
    "plt.ylabel('Loss')\n",
    "\n",
    "plt.title(\"Loss over Time\")\n",
    "\n",
    "plt.show()"
   ]
  },
  {
   "cell_type": "markdown",
   "metadata": {},
   "source": [
    "# Directed Acyclic Graphs of Layers\n",
    "With the functional API we can also build models with complex internal topology. Neural networks in Keras are allowed to be arbitrary directed acyclic graphs of layers. It is important they are acyclic because these graphs can't have cycles. It is impossible for a tensor x to be the input of one of the layers generated by x. The only processing loops that are allowed are those internal to recurrent layers.\n",
    "\n",
    "Common neural network components are implemented as graphs. Two otable ones are Inception modules and residual connections.\n",
    "\n",
    "## Inception Models\n",
    "Inception is a populat type of network architecture for convolutional neural networks."
   ]
  },
  {
   "cell_type": "code",
   "execution_count": null,
   "metadata": {},
   "outputs": [],
   "source": []
  }
 ],
 "metadata": {
  "kernelspec": {
   "display_name": "Python 3",
   "language": "python",
   "name": "python3"
  },
  "language_info": {
   "codemirror_mode": {
    "name": "ipython",
    "version": 3
   },
   "file_extension": ".py",
   "mimetype": "text/x-python",
   "name": "python",
   "nbconvert_exporter": "python",
   "pygments_lexer": "ipython3",
   "version": "3.6.6"
  }
 },
 "nbformat": 4,
 "nbformat_minor": 2
}
